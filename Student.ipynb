{
 "cells": [
  {
   "cell_type": "markdown",
   "metadata": {},
   "source": [
    "### Phase 3 Project Submission\n",
    "* Students name: Jeniffer Njeri Gatharia\n",
    "* Student pace: Part Time\n",
    "* Instructor name: Samuel G Mwangi"
   ]
  },
  {
   "cell_type": "markdown",
   "metadata": {},
   "source": [
    "# SyriaTel Customer Churn"
   ]
  },
  {
   "cell_type": "markdown",
   "metadata": {},
   "source": [
    "## Project Overview"
   ]
  },
  {
   "cell_type": "markdown",
   "metadata": {},
   "source": [
    "### 1. Business Understanding"
   ]
  },
  {
   "cell_type": "markdown",
   "metadata": {},
   "source": [
    "Customer retention is at the heart of every thriving Telecom company. Managing and reducing customer churn is essential for maintaining revenue, profitability, and market share. By focusing on churn reduction, telecom companies can enhance customer satisfaction, increase the lifetime value of their customers, and secure a stronger position in the competitive market. SyriaTelecommunication is well aware of the common marketplace comment that \"it is cheaper to retain a converted customer than acquire a new client. As a result, I have been tasked to build a classification model that will predict whether a customer will soon stop doing business with them. \n",
    "\n",
    "The research at hand delves into machine learning algorithms and offers recommendations tailored to the telecommunications industry. In a competitive telecom sector where customers can effortlessly switch from one provider to another, telecom companies are understandably concerned about customer retention and devising strategies to retain their clientele. By preemptively identifying customers likely to switch providers through behavioral analysis, they can devise targeted offers and services based on historical records. \n",
    "\n",
    "The core objective of this study is to predict churn in advance and pinpoint the primary factors that may influence customers to migrate to other telecom providers. The project will explore various machine learning algorithms, including logistic regression and decision trees to develop a robust churn prediction model. Model performance will be evaluated using metrics such as accuracy, precision, recall, and AUC-ROC to ensure the best possible outcomes. This will provide the insight the board members need when making policies and procedures that will enable the business gear towards retaining the customers and continue being relevant in the marketplace.\n",
    "\n",
    "See below questions the project aims to answer:\n",
    "1. What is the churn current % rate.\n",
    "2. What are the factors contributing to customer churn.\n",
    "3. What features/attributes do the customers who churn have.\n",
    "4. What strategies can SyriaTel implement to increase customer retention."
   ]
  },
  {
   "cell_type": "markdown",
   "metadata": {},
   "source": [
    "### 2. Data Understanding"
   ]
  },
  {
   "cell_type": "markdown",
   "metadata": {},
   "source": [
    "This project utilizes the SyriaTel dataset, which was downloaded from Kaggle. The data is stored in the file named SyriaTel_Customer_Churn.csv. As part of understanding our data, we will assess it for class imbalance and identify any other potential limitations. These issues will be addressed as we proceed to analyze and prepare the data for modeling.\n",
    "\n",
    "See below columns and what they represent:\n",
    "* State: The geographical location of the customer.\n",
    "* Account Length: How long the customer held their account.\n",
    "* Area Code: Customer's phone number area code.\n",
    "* Phone Number: Customer's mobile number.\n",
    "* International Plan: A indicator of whether the customer has an international plan or not.\n",
    "* Voice Mail Plan: An indicator whether the customer has a voice mail plan.\n",
    "* Number Vmail Messages: How many voicemail messages the customer has.\n",
    "* Total Day Minutes: Total minutes the customers spend on a call in the day.\n",
    "* Total Day Calls: Total number of calls the customer made in a day.\n",
    "* Total Day Charge: Total charge incrued for the day calls.\n",
    "* Total Eve Minutes: Total minutes the customers spend on a call in the evening.\n",
    "* Total Eve Calls: Total number of calls the customer made in a evening.\n",
    "* Total Eve Charge: Total charge incrued for the evening calls\n",
    "* Total Night Minutes: Total minutes the customers spend on a call in the night.\n",
    "* Total Night Calls: Total number of calls the customer made in a night.\n",
    "* Total Night Charge: Total charge incrued for the day night.\n",
    "* Total Intl Minutes: Total minutes spent on an international call.\n",
    "* Total Intl Calls: Total international calls made.\n",
    "* Total Intl Charge: Total charge incured on the international plan.\n",
    "* Customer Service Calls: How many calls the customer made for support to SyriaTel.\n",
    "* Churn: Target variable indicating whether the customer has churned or not that is 1 or 0 respectively.\n",
    "\n",
    "All the other features are potential contributing factors to churn which our project will focus on to eventually tell which features are more significant than the others. \n",
    "\n"
   ]
  }
 ],
 "metadata": {
  "language_info": {
   "name": "python"
  }
 },
 "nbformat": 4,
 "nbformat_minor": 2
}
