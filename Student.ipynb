{
 "cells": [
  {
   "cell_type": "markdown",
   "metadata": {},
   "source": [
    "### Phase 3 Project Submission\n",
    "* Students name: Jeniffer Njeri Gatharia\n",
    "* Student pace: Part Time\n",
    "* Instructor name: Samuel G Mwangi"
   ]
  },
  {
   "cell_type": "markdown",
   "metadata": {},
   "source": [
    "# SyriaTel Customer Churn"
   ]
  },
  {
   "cell_type": "markdown",
   "metadata": {},
   "source": [
    "## Project Overview"
   ]
  },
  {
   "cell_type": "markdown",
   "metadata": {},
   "source": [
    "### 1. Business Understanding"
   ]
  },
  {
   "cell_type": "markdown",
   "metadata": {},
   "source": [
    "Customer retention is at the heart of every thriving Telecom company. Managing and reducing customer churn is essential for maintaining revenue, profitability, and market share. By focusing on churn reduction, telecom companies can enhance customer satisfaction, increase the lifetime value of their customers, and secure a stronger position in the competitive market. SyriaTelecommunication is well aware of the common marketplace comment that \"it is cheaper to retain a converted customer than acquire a new client. As a result, I have been tasked to build a classification model that will predict whether a customer will soon stop doing business with them. \n",
    "\n",
    "The research at hand delves into machine learning algorithms and offers recommendations tailored to the telecommunications industry. In a competitive telecom sector where customers can effortlessly switch from one provider to another, telecom companies are understandably concerned about customer retention and devising strategies to retain their clientele. By preemptively identifying customers likely to switch providers through behavioral analysis, they can devise targeted offers and services based on historical records. \n",
    "\n",
    "The core objective of this study is to predict churn in advance and pinpoint the primary factors that may influence customers to migrate to other telecom providers. The project will explore various machine learning algorithms, including logistic regression and decision trees to develop a robust churn prediction model. Model performance will be evaluated using metrics such as accuracy, precision, recall, and AUC-ROC to ensure the best possible outcomes. This will provide the insight the board members need when making policies and procedures that will enable the business gear towards retaining the customers and continue being relevant in the marketplace.\n",
    "\n",
    "See below questions the project aims to answer:\n",
    "1. What is the churn current % rate.\n",
    "2. What are the factors contributing to customer churn.\n",
    "3. What features/attributes do the customers who churn have.\n",
    "4. What strategies can SyriaTel implement to increase customer retention."
   ]
  },
  {
   "cell_type": "markdown",
   "metadata": {},
   "source": [
    "### 2. Data Understanding"
   ]
  },
  {
   "cell_type": "markdown",
   "metadata": {},
   "source": [
    "This project utilizes the SyriaTel dataset, which was downloaded from Kaggle. The data is stored in the file named SyriaTel_Customer_Churn.csv. As part of understanding our data, we will assess it for class imbalance and identify any other potential limitations. These issues will be addressed as we proceed to analyze and prepare the data for modeling.\n",
    "\n",
    "See below columns and what they represent:\n",
    "* State: The geographical location of the customer.\n",
    "* Account Length: How long the customer held their account.\n",
    "* Area Code: Customer's phone number area code.\n",
    "* Phone Number: Customer's mobile number.\n",
    "* International Plan: A indicator of whether the customer has an international plan or not.\n",
    "* Voice Mail Plan: An indicator whether the customer has a voice mail plan.\n",
    "* Number Vmail Messages: How many voicemail messages the customer has.\n",
    "* Total Day Minutes: Total minutes the customers spend on a call in the day.\n",
    "* Total Day Calls: Total number of calls the customer made in a day.\n",
    "* Total Day Charge: Total charge incrued for the day calls.\n",
    "* Total Eve Minutes: Total minutes the customers spend on a call in the evening.\n",
    "* Total Eve Calls: Total number of calls the customer made in a evening.\n",
    "* Total Eve Charge: Total charge incrued for the evening calls\n",
    "* Total Night Minutes: Total minutes the customers spend on a call in the night.\n",
    "* Total Night Calls: Total number of calls the customer made in a night.\n",
    "* Total Night Charge: Total charge incrued for the day night.\n",
    "* Total Intl Minutes: Total minutes spent on an international call.\n",
    "* Total Intl Calls: Total international calls made.\n",
    "* Total Intl Charge: Total charge incured on the international plan.\n",
    "* Customer Service Calls: How many calls the customer made for support to SyriaTel.\n",
    "* Churn: Target variable indicating whether the customer has churned or not that is 1 or 0 respectively.\n",
    "\n",
    "All the other features are potential contributing factors to churn which our project will focus on to eventually tell which features are more significant than the others. \n",
    "\n"
   ]
  },
  {
   "cell_type": "markdown",
   "metadata": {},
   "source": [
    "### 3. Data Preparation \n",
    "#### Import relevant libraries"
   ]
  },
  {
   "cell_type": "code",
   "execution_count": 168,
   "metadata": {},
   "outputs": [],
   "source": [
    "import pandas as pd\n",
    "import numpy as np\n",
    "#libraries for visualization\n",
    "import matplotlib.pyplot as plt\n",
    "%matplotlib inline\n",
    "import seaborn as sns\n",
    "#Machine Learning libraries\n",
    "from sklearn.model_selection import train_test_split, cross_val_score\n",
    "from sklearn.preprocessing import StandardScaler, OneHotEncoder, MinMaxScaler\n",
    "from sklearn.linear_model import LogisticRegression, Lasso, Ridge\n",
    "from sklearn.metrics import accuracy_score, recall_score, precision_score, f1_score, roc_curve, roc_auc_score, confusion_matrix, ConfusionMatrixDisplay\n",
    "from sklearn.tree import DecisionTreeClassifier\n",
    "from imblearn.over_sampling import SMOTE\n",
    "from sklearn import tree\n",
    "import warnings\n"
   ]
  },
  {
   "cell_type": "markdown",
   "metadata": {},
   "source": [
    "#### Data Overview"
   ]
  },
  {
   "cell_type": "code",
   "execution_count": 169,
   "metadata": {},
   "outputs": [
    {
     "data": {
      "text/html": [
       "<div>\n",
       "<style scoped>\n",
       "    .dataframe tbody tr th:only-of-type {\n",
       "        vertical-align: middle;\n",
       "    }\n",
       "\n",
       "    .dataframe tbody tr th {\n",
       "        vertical-align: top;\n",
       "    }\n",
       "\n",
       "    .dataframe thead th {\n",
       "        text-align: right;\n",
       "    }\n",
       "</style>\n",
       "<table border=\"1\" class=\"dataframe\">\n",
       "  <thead>\n",
       "    <tr style=\"text-align: right;\">\n",
       "      <th></th>\n",
       "      <th>state</th>\n",
       "      <th>account length</th>\n",
       "      <th>area code</th>\n",
       "      <th>phone number</th>\n",
       "      <th>international plan</th>\n",
       "      <th>voice mail plan</th>\n",
       "      <th>number vmail messages</th>\n",
       "      <th>total day minutes</th>\n",
       "      <th>total day calls</th>\n",
       "      <th>total day charge</th>\n",
       "      <th>...</th>\n",
       "      <th>total eve calls</th>\n",
       "      <th>total eve charge</th>\n",
       "      <th>total night minutes</th>\n",
       "      <th>total night calls</th>\n",
       "      <th>total night charge</th>\n",
       "      <th>total intl minutes</th>\n",
       "      <th>total intl calls</th>\n",
       "      <th>total intl charge</th>\n",
       "      <th>customer service calls</th>\n",
       "      <th>churn</th>\n",
       "    </tr>\n",
       "  </thead>\n",
       "  <tbody>\n",
       "    <tr>\n",
       "      <th>0</th>\n",
       "      <td>KS</td>\n",
       "      <td>128</td>\n",
       "      <td>415</td>\n",
       "      <td>382-4657</td>\n",
       "      <td>no</td>\n",
       "      <td>yes</td>\n",
       "      <td>25</td>\n",
       "      <td>265.1</td>\n",
       "      <td>110</td>\n",
       "      <td>45.07</td>\n",
       "      <td>...</td>\n",
       "      <td>99</td>\n",
       "      <td>16.78</td>\n",
       "      <td>244.7</td>\n",
       "      <td>91</td>\n",
       "      <td>11.01</td>\n",
       "      <td>10.0</td>\n",
       "      <td>3</td>\n",
       "      <td>2.70</td>\n",
       "      <td>1</td>\n",
       "      <td>False</td>\n",
       "    </tr>\n",
       "    <tr>\n",
       "      <th>1</th>\n",
       "      <td>OH</td>\n",
       "      <td>107</td>\n",
       "      <td>415</td>\n",
       "      <td>371-7191</td>\n",
       "      <td>no</td>\n",
       "      <td>yes</td>\n",
       "      <td>26</td>\n",
       "      <td>161.6</td>\n",
       "      <td>123</td>\n",
       "      <td>27.47</td>\n",
       "      <td>...</td>\n",
       "      <td>103</td>\n",
       "      <td>16.62</td>\n",
       "      <td>254.4</td>\n",
       "      <td>103</td>\n",
       "      <td>11.45</td>\n",
       "      <td>13.7</td>\n",
       "      <td>3</td>\n",
       "      <td>3.70</td>\n",
       "      <td>1</td>\n",
       "      <td>False</td>\n",
       "    </tr>\n",
       "    <tr>\n",
       "      <th>2</th>\n",
       "      <td>NJ</td>\n",
       "      <td>137</td>\n",
       "      <td>415</td>\n",
       "      <td>358-1921</td>\n",
       "      <td>no</td>\n",
       "      <td>no</td>\n",
       "      <td>0</td>\n",
       "      <td>243.4</td>\n",
       "      <td>114</td>\n",
       "      <td>41.38</td>\n",
       "      <td>...</td>\n",
       "      <td>110</td>\n",
       "      <td>10.30</td>\n",
       "      <td>162.6</td>\n",
       "      <td>104</td>\n",
       "      <td>7.32</td>\n",
       "      <td>12.2</td>\n",
       "      <td>5</td>\n",
       "      <td>3.29</td>\n",
       "      <td>0</td>\n",
       "      <td>False</td>\n",
       "    </tr>\n",
       "    <tr>\n",
       "      <th>3</th>\n",
       "      <td>OH</td>\n",
       "      <td>84</td>\n",
       "      <td>408</td>\n",
       "      <td>375-9999</td>\n",
       "      <td>yes</td>\n",
       "      <td>no</td>\n",
       "      <td>0</td>\n",
       "      <td>299.4</td>\n",
       "      <td>71</td>\n",
       "      <td>50.90</td>\n",
       "      <td>...</td>\n",
       "      <td>88</td>\n",
       "      <td>5.26</td>\n",
       "      <td>196.9</td>\n",
       "      <td>89</td>\n",
       "      <td>8.86</td>\n",
       "      <td>6.6</td>\n",
       "      <td>7</td>\n",
       "      <td>1.78</td>\n",
       "      <td>2</td>\n",
       "      <td>False</td>\n",
       "    </tr>\n",
       "    <tr>\n",
       "      <th>4</th>\n",
       "      <td>OK</td>\n",
       "      <td>75</td>\n",
       "      <td>415</td>\n",
       "      <td>330-6626</td>\n",
       "      <td>yes</td>\n",
       "      <td>no</td>\n",
       "      <td>0</td>\n",
       "      <td>166.7</td>\n",
       "      <td>113</td>\n",
       "      <td>28.34</td>\n",
       "      <td>...</td>\n",
       "      <td>122</td>\n",
       "      <td>12.61</td>\n",
       "      <td>186.9</td>\n",
       "      <td>121</td>\n",
       "      <td>8.41</td>\n",
       "      <td>10.1</td>\n",
       "      <td>3</td>\n",
       "      <td>2.73</td>\n",
       "      <td>3</td>\n",
       "      <td>False</td>\n",
       "    </tr>\n",
       "  </tbody>\n",
       "</table>\n",
       "<p>5 rows × 21 columns</p>\n",
       "</div>"
      ],
      "text/plain": [
       "  state  account length  area code phone number international plan  \\\n",
       "0    KS             128        415     382-4657                 no   \n",
       "1    OH             107        415     371-7191                 no   \n",
       "2    NJ             137        415     358-1921                 no   \n",
       "3    OH              84        408     375-9999                yes   \n",
       "4    OK              75        415     330-6626                yes   \n",
       "\n",
       "  voice mail plan  number vmail messages  total day minutes  total day calls  \\\n",
       "0             yes                     25              265.1              110   \n",
       "1             yes                     26              161.6              123   \n",
       "2              no                      0              243.4              114   \n",
       "3              no                      0              299.4               71   \n",
       "4              no                      0              166.7              113   \n",
       "\n",
       "   total day charge  ...  total eve calls  total eve charge  \\\n",
       "0             45.07  ...               99             16.78   \n",
       "1             27.47  ...              103             16.62   \n",
       "2             41.38  ...              110             10.30   \n",
       "3             50.90  ...               88              5.26   \n",
       "4             28.34  ...              122             12.61   \n",
       "\n",
       "   total night minutes  total night calls  total night charge  \\\n",
       "0                244.7                 91               11.01   \n",
       "1                254.4                103               11.45   \n",
       "2                162.6                104                7.32   \n",
       "3                196.9                 89                8.86   \n",
       "4                186.9                121                8.41   \n",
       "\n",
       "   total intl minutes  total intl calls  total intl charge  \\\n",
       "0                10.0                 3               2.70   \n",
       "1                13.7                 3               3.70   \n",
       "2                12.2                 5               3.29   \n",
       "3                 6.6                 7               1.78   \n",
       "4                10.1                 3               2.73   \n",
       "\n",
       "   customer service calls  churn  \n",
       "0                       1  False  \n",
       "1                       1  False  \n",
       "2                       0  False  \n",
       "3                       2  False  \n",
       "4                       3  False  \n",
       "\n",
       "[5 rows x 21 columns]"
      ]
     },
     "execution_count": 169,
     "metadata": {},
     "output_type": "execute_result"
    }
   ],
   "source": [
    "# Load the data and view the first 5 rows\n",
    "customer_churn = pd.read_csv('SyriaTel_Customer_Churn.csv')\n",
    "customer_churn.head()"
   ]
  },
  {
   "cell_type": "code",
   "execution_count": 170,
   "metadata": {},
   "outputs": [
    {
     "data": {
      "text/plain": [
       "(3333, 21)"
      ]
     },
     "execution_count": 170,
     "metadata": {},
     "output_type": "execute_result"
    }
   ],
   "source": [
    "# To check the Shape of the dataset\n",
    "customer_churn.shape"
   ]
  },
  {
   "cell_type": "code",
   "execution_count": 171,
   "metadata": {},
   "outputs": [
    {
     "data": {
      "text/plain": [
       "Index(['state', 'account length', 'area code', 'phone number',\n",
       "       'international plan', 'voice mail plan', 'number vmail messages',\n",
       "       'total day minutes', 'total day calls', 'total day charge',\n",
       "       'total eve minutes', 'total eve calls', 'total eve charge',\n",
       "       'total night minutes', 'total night calls', 'total night charge',\n",
       "       'total intl minutes', 'total intl calls', 'total intl charge',\n",
       "       'customer service calls', 'churn'],\n",
       "      dtype='object')"
      ]
     },
     "execution_count": 171,
     "metadata": {},
     "output_type": "execute_result"
    }
   ],
   "source": [
    "#To check the column names\n",
    "customer_churn.columns"
   ]
  },
  {
   "cell_type": "markdown",
   "metadata": {},
   "source": [
    "* We note the dataset has 3333 rows and 21 columns"
   ]
  },
  {
   "cell_type": "code",
   "execution_count": 172,
   "metadata": {},
   "outputs": [
    {
     "name": "stdout",
     "output_type": "stream",
     "text": [
      "<class 'pandas.core.frame.DataFrame'>\n",
      "RangeIndex: 3333 entries, 0 to 3332\n",
      "Data columns (total 21 columns):\n",
      " #   Column                  Non-Null Count  Dtype  \n",
      "---  ------                  --------------  -----  \n",
      " 0   state                   3333 non-null   object \n",
      " 1   account length          3333 non-null   int64  \n",
      " 2   area code               3333 non-null   int64  \n",
      " 3   phone number            3333 non-null   object \n",
      " 4   international plan      3333 non-null   object \n",
      " 5   voice mail plan         3333 non-null   object \n",
      " 6   number vmail messages   3333 non-null   int64  \n",
      " 7   total day minutes       3333 non-null   float64\n",
      " 8   total day calls         3333 non-null   int64  \n",
      " 9   total day charge        3333 non-null   float64\n",
      " 10  total eve minutes       3333 non-null   float64\n",
      " 11  total eve calls         3333 non-null   int64  \n",
      " 12  total eve charge        3333 non-null   float64\n",
      " 13  total night minutes     3333 non-null   float64\n",
      " 14  total night calls       3333 non-null   int64  \n",
      " 15  total night charge      3333 non-null   float64\n",
      " 16  total intl minutes      3333 non-null   float64\n",
      " 17  total intl calls        3333 non-null   int64  \n",
      " 18  total intl charge       3333 non-null   float64\n",
      " 19  customer service calls  3333 non-null   int64  \n",
      " 20  churn                   3333 non-null   bool   \n",
      "dtypes: bool(1), float64(8), int64(8), object(4)\n",
      "memory usage: 524.2+ KB\n"
     ]
    }
   ],
   "source": [
    "# To view the dataset info\n",
    "customer_churn.info()"
   ]
  },
  {
   "cell_type": "markdown",
   "metadata": {},
   "source": [
    "* From the information seen above we note the dtypes of the various columns bool(1), float64(8), int64(8) and object(4)\n",
    "* We also note that we do not have any missing values here from the non-null count.\n",
    "* It is appropriate for the area code to be in the datatype object than the int64. We shall convert this then do a descriptive statistics."
   ]
  },
  {
   "cell_type": "code",
   "execution_count": 173,
   "metadata": {},
   "outputs": [],
   "source": [
    "# Convert the 'area code' column to an object (string) column\n",
    "customer_churn['area code'] = customer_churn['area code'].astype(str)"
   ]
  },
  {
   "cell_type": "markdown",
   "metadata": {},
   "source": [
    "* The values the 'area code' column contains are essentially placeholders or labels, not numerical values that carry mathematical significance. To prevent potential interference with our predictive modeling process, we have undertaken the step of converting this column to a string data type. By doing so, we ensure that the 'area code' column is treated as a categorical variable with no numerical significance. This transformation aids in maintaining the integrity of our predictive model, especially when the model relies on numerical inputs, preventing any misinterpretation of the 'area code' as a quantitative feature"
   ]
  },
  {
   "cell_type": "code",
   "execution_count": 174,
   "metadata": {},
   "outputs": [
    {
     "data": {
      "text/html": [
       "<div>\n",
       "<style scoped>\n",
       "    .dataframe tbody tr th:only-of-type {\n",
       "        vertical-align: middle;\n",
       "    }\n",
       "\n",
       "    .dataframe tbody tr th {\n",
       "        vertical-align: top;\n",
       "    }\n",
       "\n",
       "    .dataframe thead th {\n",
       "        text-align: right;\n",
       "    }\n",
       "</style>\n",
       "<table border=\"1\" class=\"dataframe\">\n",
       "  <thead>\n",
       "    <tr style=\"text-align: right;\">\n",
       "      <th></th>\n",
       "      <th>account length</th>\n",
       "      <th>number vmail messages</th>\n",
       "      <th>total day minutes</th>\n",
       "      <th>total day calls</th>\n",
       "      <th>total day charge</th>\n",
       "      <th>total eve minutes</th>\n",
       "      <th>total eve calls</th>\n",
       "      <th>total eve charge</th>\n",
       "      <th>total night minutes</th>\n",
       "      <th>total night calls</th>\n",
       "      <th>total night charge</th>\n",
       "      <th>total intl minutes</th>\n",
       "      <th>total intl calls</th>\n",
       "      <th>total intl charge</th>\n",
       "      <th>customer service calls</th>\n",
       "    </tr>\n",
       "  </thead>\n",
       "  <tbody>\n",
       "    <tr>\n",
       "      <th>count</th>\n",
       "      <td>3333.000000</td>\n",
       "      <td>3333.000000</td>\n",
       "      <td>3333.000000</td>\n",
       "      <td>3333.000000</td>\n",
       "      <td>3333.000000</td>\n",
       "      <td>3333.000000</td>\n",
       "      <td>3333.000000</td>\n",
       "      <td>3333.000000</td>\n",
       "      <td>3333.000000</td>\n",
       "      <td>3333.000000</td>\n",
       "      <td>3333.000000</td>\n",
       "      <td>3333.000000</td>\n",
       "      <td>3333.000000</td>\n",
       "      <td>3333.000000</td>\n",
       "      <td>3333.000000</td>\n",
       "    </tr>\n",
       "    <tr>\n",
       "      <th>mean</th>\n",
       "      <td>101.064806</td>\n",
       "      <td>8.099010</td>\n",
       "      <td>179.775098</td>\n",
       "      <td>100.435644</td>\n",
       "      <td>30.562307</td>\n",
       "      <td>200.980348</td>\n",
       "      <td>100.114311</td>\n",
       "      <td>17.083540</td>\n",
       "      <td>200.872037</td>\n",
       "      <td>100.107711</td>\n",
       "      <td>9.039325</td>\n",
       "      <td>10.237294</td>\n",
       "      <td>4.479448</td>\n",
       "      <td>2.764581</td>\n",
       "      <td>1.562856</td>\n",
       "    </tr>\n",
       "    <tr>\n",
       "      <th>std</th>\n",
       "      <td>39.822106</td>\n",
       "      <td>13.688365</td>\n",
       "      <td>54.467389</td>\n",
       "      <td>20.069084</td>\n",
       "      <td>9.259435</td>\n",
       "      <td>50.713844</td>\n",
       "      <td>19.922625</td>\n",
       "      <td>4.310668</td>\n",
       "      <td>50.573847</td>\n",
       "      <td>19.568609</td>\n",
       "      <td>2.275873</td>\n",
       "      <td>2.791840</td>\n",
       "      <td>2.461214</td>\n",
       "      <td>0.753773</td>\n",
       "      <td>1.315491</td>\n",
       "    </tr>\n",
       "    <tr>\n",
       "      <th>min</th>\n",
       "      <td>1.000000</td>\n",
       "      <td>0.000000</td>\n",
       "      <td>0.000000</td>\n",
       "      <td>0.000000</td>\n",
       "      <td>0.000000</td>\n",
       "      <td>0.000000</td>\n",
       "      <td>0.000000</td>\n",
       "      <td>0.000000</td>\n",
       "      <td>23.200000</td>\n",
       "      <td>33.000000</td>\n",
       "      <td>1.040000</td>\n",
       "      <td>0.000000</td>\n",
       "      <td>0.000000</td>\n",
       "      <td>0.000000</td>\n",
       "      <td>0.000000</td>\n",
       "    </tr>\n",
       "    <tr>\n",
       "      <th>25%</th>\n",
       "      <td>74.000000</td>\n",
       "      <td>0.000000</td>\n",
       "      <td>143.700000</td>\n",
       "      <td>87.000000</td>\n",
       "      <td>24.430000</td>\n",
       "      <td>166.600000</td>\n",
       "      <td>87.000000</td>\n",
       "      <td>14.160000</td>\n",
       "      <td>167.000000</td>\n",
       "      <td>87.000000</td>\n",
       "      <td>7.520000</td>\n",
       "      <td>8.500000</td>\n",
       "      <td>3.000000</td>\n",
       "      <td>2.300000</td>\n",
       "      <td>1.000000</td>\n",
       "    </tr>\n",
       "    <tr>\n",
       "      <th>50%</th>\n",
       "      <td>101.000000</td>\n",
       "      <td>0.000000</td>\n",
       "      <td>179.400000</td>\n",
       "      <td>101.000000</td>\n",
       "      <td>30.500000</td>\n",
       "      <td>201.400000</td>\n",
       "      <td>100.000000</td>\n",
       "      <td>17.120000</td>\n",
       "      <td>201.200000</td>\n",
       "      <td>100.000000</td>\n",
       "      <td>9.050000</td>\n",
       "      <td>10.300000</td>\n",
       "      <td>4.000000</td>\n",
       "      <td>2.780000</td>\n",
       "      <td>1.000000</td>\n",
       "    </tr>\n",
       "    <tr>\n",
       "      <th>75%</th>\n",
       "      <td>127.000000</td>\n",
       "      <td>20.000000</td>\n",
       "      <td>216.400000</td>\n",
       "      <td>114.000000</td>\n",
       "      <td>36.790000</td>\n",
       "      <td>235.300000</td>\n",
       "      <td>114.000000</td>\n",
       "      <td>20.000000</td>\n",
       "      <td>235.300000</td>\n",
       "      <td>113.000000</td>\n",
       "      <td>10.590000</td>\n",
       "      <td>12.100000</td>\n",
       "      <td>6.000000</td>\n",
       "      <td>3.270000</td>\n",
       "      <td>2.000000</td>\n",
       "    </tr>\n",
       "    <tr>\n",
       "      <th>max</th>\n",
       "      <td>243.000000</td>\n",
       "      <td>51.000000</td>\n",
       "      <td>350.800000</td>\n",
       "      <td>165.000000</td>\n",
       "      <td>59.640000</td>\n",
       "      <td>363.700000</td>\n",
       "      <td>170.000000</td>\n",
       "      <td>30.910000</td>\n",
       "      <td>395.000000</td>\n",
       "      <td>175.000000</td>\n",
       "      <td>17.770000</td>\n",
       "      <td>20.000000</td>\n",
       "      <td>20.000000</td>\n",
       "      <td>5.400000</td>\n",
       "      <td>9.000000</td>\n",
       "    </tr>\n",
       "  </tbody>\n",
       "</table>\n",
       "</div>"
      ],
      "text/plain": [
       "       account length  number vmail messages  total day minutes  \\\n",
       "count     3333.000000            3333.000000        3333.000000   \n",
       "mean       101.064806               8.099010         179.775098   \n",
       "std         39.822106              13.688365          54.467389   \n",
       "min          1.000000               0.000000           0.000000   \n",
       "25%         74.000000               0.000000         143.700000   \n",
       "50%        101.000000               0.000000         179.400000   \n",
       "75%        127.000000              20.000000         216.400000   \n",
       "max        243.000000              51.000000         350.800000   \n",
       "\n",
       "       total day calls  total day charge  total eve minutes  total eve calls  \\\n",
       "count      3333.000000       3333.000000        3333.000000      3333.000000   \n",
       "mean        100.435644         30.562307         200.980348       100.114311   \n",
       "std          20.069084          9.259435          50.713844        19.922625   \n",
       "min           0.000000          0.000000           0.000000         0.000000   \n",
       "25%          87.000000         24.430000         166.600000        87.000000   \n",
       "50%         101.000000         30.500000         201.400000       100.000000   \n",
       "75%         114.000000         36.790000         235.300000       114.000000   \n",
       "max         165.000000         59.640000         363.700000       170.000000   \n",
       "\n",
       "       total eve charge  total night minutes  total night calls  \\\n",
       "count       3333.000000          3333.000000        3333.000000   \n",
       "mean          17.083540           200.872037         100.107711   \n",
       "std            4.310668            50.573847          19.568609   \n",
       "min            0.000000            23.200000          33.000000   \n",
       "25%           14.160000           167.000000          87.000000   \n",
       "50%           17.120000           201.200000         100.000000   \n",
       "75%           20.000000           235.300000         113.000000   \n",
       "max           30.910000           395.000000         175.000000   \n",
       "\n",
       "       total night charge  total intl minutes  total intl calls  \\\n",
       "count         3333.000000         3333.000000       3333.000000   \n",
       "mean             9.039325           10.237294          4.479448   \n",
       "std              2.275873            2.791840          2.461214   \n",
       "min              1.040000            0.000000          0.000000   \n",
       "25%              7.520000            8.500000          3.000000   \n",
       "50%              9.050000           10.300000          4.000000   \n",
       "75%             10.590000           12.100000          6.000000   \n",
       "max             17.770000           20.000000         20.000000   \n",
       "\n",
       "       total intl charge  customer service calls  \n",
       "count        3333.000000             3333.000000  \n",
       "mean            2.764581                1.562856  \n",
       "std             0.753773                1.315491  \n",
       "min             0.000000                0.000000  \n",
       "25%             2.300000                1.000000  \n",
       "50%             2.780000                1.000000  \n",
       "75%             3.270000                2.000000  \n",
       "max             5.400000                9.000000  "
      ]
     },
     "execution_count": 174,
     "metadata": {},
     "output_type": "execute_result"
    }
   ],
   "source": [
    "#To view the descriptive statistic of the dataset\n",
    "customer_churn.describe()"
   ]
  },
  {
   "cell_type": "markdown",
   "metadata": {},
   "source": [
    "#### To check for missing values"
   ]
  },
  {
   "cell_type": "code",
   "execution_count": 175,
   "metadata": {},
   "outputs": [
    {
     "data": {
      "text/plain": [
       "state                     0\n",
       "account length            0\n",
       "area code                 0\n",
       "phone number              0\n",
       "international plan        0\n",
       "voice mail plan           0\n",
       "number vmail messages     0\n",
       "total day minutes         0\n",
       "total day calls           0\n",
       "total day charge          0\n",
       "total eve minutes         0\n",
       "total eve calls           0\n",
       "total eve charge          0\n",
       "total night minutes       0\n",
       "total night calls         0\n",
       "total night charge        0\n",
       "total intl minutes        0\n",
       "total intl calls          0\n",
       "total intl charge         0\n",
       "customer service calls    0\n",
       "churn                     0\n",
       "dtype: int64"
      ]
     },
     "execution_count": 175,
     "metadata": {},
     "output_type": "execute_result"
    }
   ],
   "source": [
    "#To check for missing values\n",
    "customer_churn.isnull().sum()"
   ]
  },
  {
   "cell_type": "markdown",
   "metadata": {},
   "source": [
    "* This is just another step where we confirm that the dataset has no missing values."
   ]
  },
  {
   "cell_type": "code",
   "execution_count": 176,
   "metadata": {},
   "outputs": [
    {
     "data": {
      "text/plain": [
       "state                       51\n",
       "account length             212\n",
       "area code                    3\n",
       "phone number              3333\n",
       "international plan           2\n",
       "voice mail plan              2\n",
       "number vmail messages       46\n",
       "total day minutes         1667\n",
       "total day calls            119\n",
       "total day charge          1667\n",
       "total eve minutes         1611\n",
       "total eve calls            123\n",
       "total eve charge          1440\n",
       "total night minutes       1591\n",
       "total night calls          120\n",
       "total night charge         933\n",
       "total intl minutes         162\n",
       "total intl calls            21\n",
       "total intl charge          162\n",
       "customer service calls      10\n",
       "churn                        2\n",
       "dtype: int64"
      ]
     },
     "execution_count": 176,
     "metadata": {},
     "output_type": "execute_result"
    }
   ],
   "source": [
    "#To check for unique values in our dataset\n",
    "customer_churn.nunique()\n"
   ]
  },
  {
   "cell_type": "markdown",
   "metadata": {},
   "source": [
    "* We view the unique values and classes in our dataset. We have 3 area codes, 2 international and voice mail plans. The phone number valuse can be used in this case as the unique identifier in our dataset"
   ]
  },
  {
   "cell_type": "code",
   "execution_count": 177,
   "metadata": {},
   "outputs": [
    {
     "data": {
      "text/plain": [
       "0"
      ]
     },
     "execution_count": 177,
     "metadata": {},
     "output_type": "execute_result"
    }
   ],
   "source": [
    "#To check for duplicated values\n",
    "customer_churn.duplicated().sum()"
   ]
  },
  {
   "cell_type": "markdown",
   "metadata": {},
   "source": [
    "* We have 0 duplicates in this dataset"
   ]
  },
  {
   "cell_type": "markdown",
   "metadata": {},
   "source": [
    "#### Target variable class distribution"
   ]
  },
  {
   "cell_type": "code",
   "execution_count": 178,
   "metadata": {},
   "outputs": [
    {
     "name": "stdout",
     "output_type": "stream",
     "text": [
      "False    2850\n",
      "True      483\n",
      "Name: churn, dtype: int64\n",
      "\n",
      "\n",
      "False    85.508551\n",
      "True     14.491449\n",
      "Name: churn, dtype: float64\n"
     ]
    },
    {
     "data": {
      "image/png": "[encoded data removed]",
      "text/plain": [
       "<Figure size 432x288 with 1 Axes>"
      ]
     },
     "metadata": {
      "needs_background": "light"
     },
     "output_type": "display_data"
    }
   ],
   "source": [
    "class_distribution = customer_churn['churn'].value_counts()\n",
    "print(class_distribution)\n",
    "\n",
    "print('\\n')\n",
    "#To view the % distribution      \n",
    "class_distribution = customer_churn['churn'].value_counts(normalize=True) * 100\n",
    "print(class_distribution)\n",
    "\n",
    "#Visualization of the Churned Vs. Non-Churned Customers\n",
    "sns.countplot(x='churn', data=customer_churn, palette='Set2')\n",
    "plt.title('Distribution of Churned vs. Non-Churned Customers')\n",
    "plt.xlabel('Churn')\n",
    "plt.ylabel('Count')\n",
    "plt.show()"
   ]
  },
  {
   "cell_type": "markdown",
   "metadata": {},
   "source": [
    "* From the target variable above we see that the churn class value count is 483 whereas the no churn count is 2850. We note a significant class imbalance here where the churn is the minority class and not churn is the majority class. This is common in churn datasets.\n",
    "\n",
    "* 85.5% customer did not churn while 14.5% customers churned. The imbalance means that a model trained without addressing this issue will be biased toward predicting the majority class (customers not churning). This will lead to high accuracy but poor performance in identifying actual churners.\n",
    "\n",
    "* We will address class imbalance using a technique such as SMOTE before modeling to balance the 'churn' and 'not churn' classes. This should help improve overall model metrics like Precision, Recall, F1-score, and AUC-ROC. In imbalanced datasets, a model may achieve high accuracy by being biased toward the majority class, but this metric alone would be misleading and not truly reflective of the model's performance on the minority class which is what our model is meant to predict"
   ]
  },
  {
   "cell_type": "markdown",
   "metadata": {},
   "source": [
    "#### Feature Relationships"
   ]
  },
  {
   "cell_type": "code",
   "execution_count": 179,
   "metadata": {},
   "outputs": [
    {
     "data": {
      "image/png": "[encoded data removed]",
      "text/plain": [
       "<Figure size 2304x576 with 2 Axes>"
      ]
     },
     "metadata": {
      "needs_background": "light"
     },
     "output_type": "display_data"
    }
   ],
   "source": [
    "plt.rcParams['figure.figsize'] = (32, 8)  \n",
    "sns.heatmap(customer_churn.corr(), annot=True)\n",
    "plt.show()"
   ]
  },
  {
   "cell_type": "markdown",
   "metadata": {},
   "source": [
    "* Our examination of the heatmap representation of the data revealed that several columns exhibit high levels of correlation with each other. For instance 'total day charge', 'total day minutes', 'total eve minutes', 'total eve charge', 'total night charge', 'total night minutes', 'total int minutes' and 'total int charge' have perfect multicollinearity. This is a condition where independent variables in our dataset are highly interrelated. Multicollinearity can make it challenging to discern the unique impact of each independent variable on the dependent variable in our modeling. This issue has the potential to create overfitting problems, particularly when employing Logistic Regression, as this method is sensitive to multicollinearity.\n",
    "\n",
    "* To address this concern, it will be crucial to take specific steps to handle multicollinearity in our modeling process. These steps might involve employing techniques such as feature selection, dimensionality reduction, or regularization to mitigate the adverse effects of multicollinearity. By doing so, we can enhance the reliability and interpretability of our models and ensure that they provide accurate insights into the relationships between our independent and dependent variables."
   ]
  },
  {
   "cell_type": "markdown",
   "metadata": {},
   "source": [
    "#### Histogram to view the distribution of the numerical features"
   ]
  },
  {
   "cell_type": "code",
   "execution_count": 180,
   "metadata": {},
   "outputs": [
    {
     "data": {
      "image/png": "[encoded data removed]",
      "text/plain": [
       "<Figure size 576x360 with 1 Axes>"
      ]
     },
     "metadata": {
      "needs_background": "light"
     },
     "output_type": "display_data"
    },
    {
     "data": {
      "image/png": "[encoded data removed]",
      "text/plain": [
       "<Figure size 576x360 with 1 Axes>"
      ]
     },
     "metadata": {
      "needs_background": "light"
     },
     "output_type": "display_data"
    },
    {
     "data": {
      "image/png": "[encoded data removed]",
      "text/plain": [
       "<Figure size 576x360 with 1 Axes>"
      ]
     },
     "metadata": {
      "needs_background": "light"
     },
     "output_type": "display_data"
    },
    {
     "data": {
      "image/png": "[encoded data removed]",
      "text/plain": [
       "<Figure size 576x360 with 1 Axes>"
      ]
     },
     "metadata": {
      "needs_background": "light"
     },
     "output_type": "display_data"
    },
    {
     "data": {
      "image/png": "[encoded data removed]",
      "text/plain": [
       "<Figure size 576x360 with 1 Axes>"
      ]
     },
     "metadata": {
      "needs_background": "light"
     },
     "output_type": "display_data"
    },
    {
     "data": {
      "image/png": "[encoded data removed]",
      "text/plain": [
       "<Figure size 576x360 with 1 Axes>"
      ]
     },
     "metadata": {
      "needs_background": "light"
     },
     "output_type": "display_data"
    },
    {
     "data": {
      "image/png": "[encoded data removed]",
      "text/plain": [
       "<Figure size 576x360 with 1 Axes>"
      ]
     },
     "metadata": {
      "needs_background": "light"
     },
     "output_type": "display_data"
    }
   ],
   "source": [
    "# Plot Histograms for numerical features to visualize their distribution\n",
    "numerical_features = customer_churn.select_dtypes('int64', 'float64')\n",
    "for feature in numerical_features:\n",
    "    plt.figure(figsize=(8, 5))  # Set the figure size\n",
    "    plt.hist(customer_churn[feature], bins=10, edgecolor='k', )  # Customize the number of bins\n",
    "    plt.title(f'{feature} histogram')\n",
    "    plt.xlabel(feature)\n",
    "    plt.ylabel('Frequency')\n",
    "    plt.show()"
   ]
  },
  {
   "cell_type": "markdown",
   "metadata": {},
   "source": [
    "#### Outlier Visualization "
   ]
  },
  {
   "cell_type": "code",
   "execution_count": 181,
   "metadata": {},
   "outputs": [
    {
     "data": {
      "image/png": "[encoded data removed]",
      "text/plain": [
       "<Figure size 576x360 with 1 Axes>"
      ]
     },
     "metadata": {
      "needs_background": "light"
     },
     "output_type": "display_data"
    },
    {
     "data": {
      "image/png": "[encoded data removed]",
      "text/plain": [
       "<Figure size 576x360 with 1 Axes>"
      ]
     },
     "metadata": {
      "needs_background": "light"
     },
     "output_type": "display_data"
    },
    {
     "data": {
      "image/png": "[encoded data removed]",
      "text/plain": [
       "<Figure size 576x360 with 1 Axes>"
      ]
     },
     "metadata": {
      "needs_background": "light"
     },
     "output_type": "display_data"
    },
    {
     "data": {
      "image/png": "[encoded data removed]",
      "text/plain": [
       "<Figure size 576x360 with 1 Axes>"
      ]
     },
     "metadata": {
      "needs_background": "light"
     },
     "output_type": "display_data"
    },
    {
     "data": {
      "image/png": "[encoded data removed]",
      "text/plain": [
       "<Figure size 576x360 with 1 Axes>"
      ]
     },
     "metadata": {
      "needs_background": "light"
     },
     "output_type": "display_data"
    },
    {
     "data": {
      "image/png": "[encoded data removed]",
      "text/plain": [
       "<Figure size 576x360 with 1 Axes>"
      ]
     },
     "metadata": {
      "needs_background": "light"
     },
     "output_type": "display_data"
    },
    {
     "data": {
      "image/png": "[encoded data removed]",
      "text/plain": [
       "<Figure size 576x360 with 1 Axes>"
      ]
     },
     "metadata": {
      "needs_background": "light"
     },
     "output_type": "display_data"
    }
   ],
   "source": [
    "# Box plots to identify outliers and visualize the spread of data.\n",
    "numerical_features = customer_churn.select_dtypes('int64', 'float64')\n",
    "for feature in numerical_features:\n",
    "    plt.figure(figsize=(8, 5))  # Set the figure size\n",
    "    plt.boxplot(customer_churn[feature], vert=False)  # Create a horizontal box plot\n",
    "    plt.title(f'Box Plot of {feature}')\n",
    "    plt.xlabel(feature)\n",
    "    plt.show()"
   ]
  },
  {
   "cell_type": "markdown",
   "metadata": {},
   "source": [
    "* We observe the presence of a significant number of outliers in our dataset. Outliers have the potential to impact our modeling process. However, it is important to note that, in this case, these outliers are not anomalies that should be removed. Instead, they are a noteworthy aspect of our dataset that we should be aware of during our modeling process. These outliers may carry valuable information or insights that could be relevant to our analysis therefore it is essential to consider and account for them when developing our models and interpreting the results. Understanding the nature and impact of these outliers is a critical part of ensuring the robustness and accuracy of our data analysis.\n",
    "\n",
    "* Adding regularization to our model can help reduce the impact of outliers by penalizing extreme parameter values, making the model more generalizable and robust\n",
    "\n"
   ]
  },
  {
   "cell_type": "markdown",
   "metadata": {},
   "source": [
    "### 4. Data Preprocessing"
   ]
  },
  {
   "cell_type": "markdown",
   "metadata": {},
   "source": [
    "####  Data Splitting \n",
    "We perform this step before preprocessing in order to prevent data leakage. This ensures that the test data remains completely unseen until the evaluation phase. Use the random state of 42 and a test size of 20%."
   ]
  },
  {
   "cell_type": "code",
   "execution_count": 240,
   "metadata": {},
   "outputs": [],
   "source": [
    "#Establish the X and y variables \n",
    "X = customer_churn.drop(['churn', 'state', 'area code', 'phone number'], axis=1) \n",
    "y = customer_churn['churn']\n",
    "#Train test split using the random_state as 42 and test_size as 20%.\n",
    "X_train, X_test, y_train, y_test = train_test_split(X, y, test_size=0.20, random_state=42)\n"
   ]
  },
  {
   "cell_type": "markdown",
   "metadata": {},
   "source": [
    "We have created the X and y variables. The y variable is the target variable. The X variable consists of all the features apart from the three indicated below: Why drop these columns:\n",
    "\n",
    "* 'phone number' serves as a unique identifier for customers but is unlikely to be a predictive feature for churn.\n",
    "\n",
    "* Including 'state' as a feature in a churn prediction model can introduce challenges. If treated as a categorical feature, it can lead to a high number of dummy variables (one-hot encoding) or require specific encoding strategies, potentially increasing the dimensionality of the dataset.\n",
    "\n",
    "* 'area code' - This is less likely to have a direct impact on churn. It is typically an identifier and may not be a strong predictor."
   ]
  },
  {
   "cell_type": "markdown",
   "metadata": {},
   "source": [
    "#### Handling Missing Data\n",
    "We do not have missing data therefore there isnt much to handle here in this preprocessing step."
   ]
  },
  {
   "cell_type": "markdown",
   "metadata": {},
   "source": [
    "#### Encoding Categorical Variables"
   ]
  },
  {
   "cell_type": "code",
   "execution_count": 241,
   "metadata": {},
   "outputs": [
    {
     "name": "stdout",
     "output_type": "stream",
     "text": [
      "<class 'pandas.core.frame.DataFrame'>\n",
      "Int64Index: 2666 entries, 817 to 3174\n",
      "Data columns (total 17 columns):\n",
      " #   Column                  Non-Null Count  Dtype  \n",
      "---  ------                  --------------  -----  \n",
      " 0   account length          2666 non-null   int64  \n",
      " 1   international plan      2666 non-null   object \n",
      " 2   voice mail plan         2666 non-null   object \n",
      " 3   number vmail messages   2666 non-null   int64  \n",
      " 4   total day minutes       2666 non-null   float64\n",
      " 5   total day calls         2666 non-null   int64  \n",
      " 6   total day charge        2666 non-null   float64\n",
      " 7   total eve minutes       2666 non-null   float64\n",
      " 8   total eve calls         2666 non-null   int64  \n",
      " 9   total eve charge        2666 non-null   float64\n",
      " 10  total night minutes     2666 non-null   float64\n",
      " 11  total night calls       2666 non-null   int64  \n",
      " 12  total night charge      2666 non-null   float64\n",
      " 13  total intl minutes      2666 non-null   float64\n",
      " 14  total intl calls        2666 non-null   int64  \n",
      " 15  total intl charge       2666 non-null   float64\n",
      " 16  customer service calls  2666 non-null   int64  \n",
      "dtypes: float64(8), int64(7), object(2)\n",
      "memory usage: 374.9+ KB\n"
     ]
    }
   ],
   "source": [
    "#To check for the categorical variables\n",
    "X_train.info()"
   ]
  },
  {
   "cell_type": "markdown",
   "metadata": {},
   "source": [
    "* We have 2 features that are in the datatype object. We shall proceed to convert this variables to dummy ohe using the OneHotEncoder from sklearn."
   ]
  },
  {
   "cell_type": "code",
   "execution_count": 244,
   "metadata": {},
   "outputs": [
    {
     "data": {
      "text/html": [
       "<div>\n",
       "<style scoped>\n",
       "    .dataframe tbody tr th:only-of-type {\n",
       "        vertical-align: middle;\n",
       "    }\n",
       "\n",
       "    .dataframe tbody tr th {\n",
       "        vertical-align: top;\n",
       "    }\n",
       "\n",
       "    .dataframe thead th {\n",
       "        text-align: right;\n",
       "    }\n",
       "</style>\n",
       "<table border=\"1\" class=\"dataframe\">\n",
       "  <thead>\n",
       "    <tr style=\"text-align: right;\">\n",
       "      <th></th>\n",
       "      <th>international plan_no</th>\n",
       "      <th>international plan_yes</th>\n",
       "      <th>voice mail plan_no</th>\n",
       "      <th>voice mail plan_yes</th>\n",
       "    </tr>\n",
       "  </thead>\n",
       "  <tbody>\n",
       "    <tr>\n",
       "      <th>817</th>\n",
       "      <td>1.0</td>\n",
       "      <td>0.0</td>\n",
       "      <td>1.0</td>\n",
       "      <td>0.0</td>\n",
       "    </tr>\n",
       "    <tr>\n",
       "      <th>1373</th>\n",
       "      <td>1.0</td>\n",
       "      <td>0.0</td>\n",
       "      <td>1.0</td>\n",
       "      <td>0.0</td>\n",
       "    </tr>\n",
       "    <tr>\n",
       "      <th>679</th>\n",
       "      <td>0.0</td>\n",
       "      <td>1.0</td>\n",
       "      <td>1.0</td>\n",
       "      <td>0.0</td>\n",
       "    </tr>\n",
       "    <tr>\n",
       "      <th>56</th>\n",
       "      <td>1.0</td>\n",
       "      <td>0.0</td>\n",
       "      <td>1.0</td>\n",
       "      <td>0.0</td>\n",
       "    </tr>\n",
       "    <tr>\n",
       "      <th>1993</th>\n",
       "      <td>1.0</td>\n",
       "      <td>0.0</td>\n",
       "      <td>1.0</td>\n",
       "      <td>0.0</td>\n",
       "    </tr>\n",
       "  </tbody>\n",
       "</table>\n",
       "</div>"
      ],
      "text/plain": [
       "      international plan_no  international plan_yes  voice mail plan_no  \\\n",
       "817                     1.0                     0.0                 1.0   \n",
       "1373                    1.0                     0.0                 1.0   \n",
       "679                     0.0                     1.0                 1.0   \n",
       "56                      1.0                     0.0                 1.0   \n",
       "1993                    1.0                     0.0                 1.0   \n",
       "\n",
       "      voice mail plan_yes  \n",
       "817                   0.0  \n",
       "1373                  0.0  \n",
       "679                   0.0  \n",
       "56                    0.0  \n",
       "1993                  0.0  "
      ]
     },
     "execution_count": 244,
     "metadata": {},
     "output_type": "execute_result"
    }
   ],
   "source": [
    "#Select the objects dtypes\n",
    "X_train_cat = X_train.select_dtypes(include=[object]).copy()\n",
    "\n",
    "#Instatialize OneHotEncoder\n",
    "ohe = OneHotEncoder(handle_unknown='ignore', sparse_output=False, drop=None) #Drop none since we have only 2 dummy variables\n",
    "#To fit the categorical datatype\n",
    "ohe.fit(X_train_cat)\n",
    "# Transform the categorical columns\n",
    "X_train_ohe = pd.DataFrame(\n",
    "    ohe.transform(X_train_cat),\n",
    "    index=X_train_cat.index,\n",
    "    columns=ohe.get_feature_names_out(X_train_cat.columns)\n",
    ")\n",
    "# Select categorical columns from the test data\n",
    "X_test_cat = X_test.select_dtypes(include=[object]).copy()\n",
    "\n",
    "# Transform the test data using the already fitted encoder\n",
    "X_test_ohe = pd.DataFrame(\n",
    "    ohe.transform(X_test_cat),\n",
    "    index=X_test_cat.index,\n",
    "    columns=ohe.get_feature_names_out(X_test_cat.columns)\n",
    ")\n",
    "X_train_ohe.head()"
   ]
  },
  {
   "cell_type": "markdown",
   "metadata": {},
   "source": [
    "#### Data Normalization using MinMaxScaler \n",
    "MinMaxScaler with default parameters will create a maximum value of 1 and a minimum value of 0. This will work well with our binary one-hot encoded data."
   ]
  },
  {
   "cell_type": "code",
   "execution_count": 246,
   "metadata": {},
   "outputs": [
    {
     "data": {
      "text/html": [
       "<div>\n",
       "<style scoped>\n",
       "    .dataframe tbody tr th:only-of-type {\n",
       "        vertical-align: middle;\n",
       "    }\n",
       "\n",
       "    .dataframe tbody tr th {\n",
       "        vertical-align: top;\n",
       "    }\n",
       "\n",
       "    .dataframe thead th {\n",
       "        text-align: right;\n",
       "    }\n",
       "</style>\n",
       "<table border=\"1\" class=\"dataframe\">\n",
       "  <thead>\n",
       "    <tr style=\"text-align: right;\">\n",
       "      <th></th>\n",
       "      <th>account length</th>\n",
       "      <th>number vmail messages</th>\n",
       "      <th>total day minutes</th>\n",
       "      <th>total day calls</th>\n",
       "      <th>total day charge</th>\n",
       "      <th>total eve minutes</th>\n",
       "      <th>total eve calls</th>\n",
       "      <th>total eve charge</th>\n",
       "      <th>total night minutes</th>\n",
       "      <th>total night calls</th>\n",
       "      <th>total night charge</th>\n",
       "      <th>total intl minutes</th>\n",
       "      <th>total intl calls</th>\n",
       "      <th>total intl charge</th>\n",
       "      <th>customer service calls</th>\n",
       "    </tr>\n",
       "  </thead>\n",
       "  <tbody>\n",
       "    <tr>\n",
       "      <th>438</th>\n",
       "      <td>0.462810</td>\n",
       "      <td>0.0</td>\n",
       "      <td>0.437679</td>\n",
       "      <td>0.466667</td>\n",
       "      <td>0.437669</td>\n",
       "      <td>0.908991</td>\n",
       "      <td>0.623529</td>\n",
       "      <td>0.909091</td>\n",
       "      <td>0.447015</td>\n",
       "      <td>0.633803</td>\n",
       "      <td>0.447101</td>\n",
       "      <td>0.675</td>\n",
       "      <td>0.157895</td>\n",
       "      <td>0.675926</td>\n",
       "      <td>0.111111</td>\n",
       "    </tr>\n",
       "    <tr>\n",
       "      <th>2674</th>\n",
       "      <td>0.272727</td>\n",
       "      <td>0.0</td>\n",
       "      <td>0.305859</td>\n",
       "      <td>0.644444</td>\n",
       "      <td>0.305912</td>\n",
       "      <td>0.597745</td>\n",
       "      <td>0.729412</td>\n",
       "      <td>0.597865</td>\n",
       "      <td>0.444325</td>\n",
       "      <td>0.760563</td>\n",
       "      <td>0.444710</td>\n",
       "      <td>0.640</td>\n",
       "      <td>0.315789</td>\n",
       "      <td>0.640741</td>\n",
       "      <td>0.000000</td>\n",
       "    </tr>\n",
       "    <tr>\n",
       "      <th>1345</th>\n",
       "      <td>0.400826</td>\n",
       "      <td>0.0</td>\n",
       "      <td>-0.007467</td>\n",
       "      <td>-0.222222</td>\n",
       "      <td>-0.007432</td>\n",
       "      <td>0.438823</td>\n",
       "      <td>0.764706</td>\n",
       "      <td>0.439016</td>\n",
       "      <td>0.387036</td>\n",
       "      <td>0.387324</td>\n",
       "      <td>0.387328</td>\n",
       "      <td>0.340</td>\n",
       "      <td>0.052632</td>\n",
       "      <td>0.340741</td>\n",
       "      <td>0.444444</td>\n",
       "    </tr>\n",
       "    <tr>\n",
       "      <th>1957</th>\n",
       "      <td>0.603306</td>\n",
       "      <td>0.0</td>\n",
       "      <td>0.603676</td>\n",
       "      <td>0.362963</td>\n",
       "      <td>0.603716</td>\n",
       "      <td>0.561177</td>\n",
       "      <td>0.535294</td>\n",
       "      <td>0.561307</td>\n",
       "      <td>0.357719</td>\n",
       "      <td>0.563380</td>\n",
       "      <td>0.358039</td>\n",
       "      <td>0.510</td>\n",
       "      <td>0.105263</td>\n",
       "      <td>0.509259</td>\n",
       "      <td>0.111111</td>\n",
       "    </tr>\n",
       "    <tr>\n",
       "      <th>2148</th>\n",
       "      <td>0.392562</td>\n",
       "      <td>0.0</td>\n",
       "      <td>0.406088</td>\n",
       "      <td>0.533333</td>\n",
       "      <td>0.406081</td>\n",
       "      <td>0.617817</td>\n",
       "      <td>0.429412</td>\n",
       "      <td>0.617923</td>\n",
       "      <td>0.550027</td>\n",
       "      <td>0.408451</td>\n",
       "      <td>0.550508</td>\n",
       "      <td>0.500</td>\n",
       "      <td>0.368421</td>\n",
       "      <td>0.500000</td>\n",
       "      <td>0.111111</td>\n",
       "    </tr>\n",
       "  </tbody>\n",
       "</table>\n",
       "</div>"
      ],
      "text/plain": [
       "      account length  number vmail messages  total day minutes  \\\n",
       "438         0.462810                    0.0           0.437679   \n",
       "2674        0.272727                    0.0           0.305859   \n",
       "1345        0.400826                    0.0          -0.007467   \n",
       "1957        0.603306                    0.0           0.603676   \n",
       "2148        0.392562                    0.0           0.406088   \n",
       "\n",
       "      total day calls  total day charge  total eve minutes  total eve calls  \\\n",
       "438          0.466667          0.437669           0.908991         0.623529   \n",
       "2674         0.644444          0.305912           0.597745         0.729412   \n",
       "1345        -0.222222         -0.007432           0.438823         0.764706   \n",
       "1957         0.362963          0.603716           0.561177         0.535294   \n",
       "2148         0.533333          0.406081           0.617817         0.429412   \n",
       "\n",
       "      total eve charge  total night minutes  total night calls  \\\n",
       "438           0.909091             0.447015           0.633803   \n",
       "2674          0.597865             0.444325           0.760563   \n",
       "1345          0.439016             0.387036           0.387324   \n",
       "1957          0.561307             0.357719           0.563380   \n",
       "2148          0.617923             0.550027           0.408451   \n",
       "\n",
       "      total night charge  total intl minutes  total intl calls  \\\n",
       "438             0.447101               0.675          0.157895   \n",
       "2674            0.444710               0.640          0.315789   \n",
       "1345            0.387328               0.340          0.052632   \n",
       "1957            0.358039               0.510          0.105263   \n",
       "2148            0.550508               0.500          0.368421   \n",
       "\n",
       "      total intl charge  customer service calls  \n",
       "438            0.675926                0.111111  \n",
       "2674           0.640741                0.000000  \n",
       "1345           0.340741                0.444444  \n",
       "1957           0.509259                0.111111  \n",
       "2148           0.500000                0.111111  "
      ]
     },
     "execution_count": 246,
     "metadata": {},
     "output_type": "execute_result"
    }
   ],
   "source": [
    "#Selecte the numerical data from X_train\n",
    "X_train_num = X_train.select_dtypes(exclude=[object]).copy()\n",
    "#Initialize MinMaxScalerScaler\n",
    "scaler = MinMaxScaler()\n",
    "scaler.fit(X_train_num)\n",
    "X_train_scaled = pd.DataFrame(\n",
    "    scaler.transform(X_train_num),\n",
    "    # index is important to ensure we can concatenate with other columns\n",
    "    index=X_train_num.index,\n",
    "    columns=X_train_num.columns\n",
    ")\n",
    "#Selecte the numerical data from X_test data\n",
    "X_test_num = X_test.select_dtypes(exclude=[object]).copy()\n",
    "# Transform the test data using the already fitted Scaler\n",
    "X_test_scaled = pd.DataFrame(\n",
    "    scaler.transform(X_test_num),\n",
    "    # index is important to ensure we can concatenate with other columns\n",
    "    index=X_test_num.index,\n",
    "    columns=X_test_num.columns\n",
    ")\n",
    "X_test_scaled.head()"
   ]
  },
  {
   "cell_type": "markdown",
   "metadata": {},
   "source": [
    "#### Concatenating the Normalized and OheHotEncoded Train Data\n"
   ]
  },
  {
   "cell_type": "code",
   "execution_count": 247,
   "metadata": {},
   "outputs": [
    {
     "data": {
      "text/html": [
       "<div>\n",
       "<style scoped>\n",
       "    .dataframe tbody tr th:only-of-type {\n",
       "        vertical-align: middle;\n",
       "    }\n",
       "\n",
       "    .dataframe tbody tr th {\n",
       "        vertical-align: top;\n",
       "    }\n",
       "\n",
       "    .dataframe thead th {\n",
       "        text-align: right;\n",
       "    }\n",
       "</style>\n",
       "<table border=\"1\" class=\"dataframe\">\n",
       "  <thead>\n",
       "    <tr style=\"text-align: right;\">\n",
       "      <th></th>\n",
       "      <th>account length</th>\n",
       "      <th>number vmail messages</th>\n",
       "      <th>total day minutes</th>\n",
       "      <th>total day calls</th>\n",
       "      <th>total day charge</th>\n",
       "      <th>total eve minutes</th>\n",
       "      <th>total eve calls</th>\n",
       "      <th>total eve charge</th>\n",
       "      <th>total night minutes</th>\n",
       "      <th>total night calls</th>\n",
       "      <th>total night charge</th>\n",
       "      <th>total intl minutes</th>\n",
       "      <th>total intl calls</th>\n",
       "      <th>total intl charge</th>\n",
       "      <th>customer service calls</th>\n",
       "      <th>international plan_no</th>\n",
       "      <th>international plan_yes</th>\n",
       "      <th>voice mail plan_no</th>\n",
       "      <th>voice mail plan_yes</th>\n",
       "    </tr>\n",
       "  </thead>\n",
       "  <tbody>\n",
       "    <tr>\n",
       "      <th>817</th>\n",
       "      <td>1.000000</td>\n",
       "      <td>0.000000</td>\n",
       "      <td>0.266801</td>\n",
       "      <td>0.459259</td>\n",
       "      <td>0.266892</td>\n",
       "      <td>0.450096</td>\n",
       "      <td>0.370588</td>\n",
       "      <td>0.450016</td>\n",
       "      <td>0.648198</td>\n",
       "      <td>0.598592</td>\n",
       "      <td>0.648536</td>\n",
       "      <td>0.330</td>\n",
       "      <td>0.315789</td>\n",
       "      <td>0.329630</td>\n",
       "      <td>0.222222</td>\n",
       "      <td>1.0</td>\n",
       "      <td>0.0</td>\n",
       "      <td>1.0</td>\n",
       "      <td>0.0</td>\n",
       "    </tr>\n",
       "    <tr>\n",
       "      <th>1373</th>\n",
       "      <td>0.442149</td>\n",
       "      <td>0.000000</td>\n",
       "      <td>0.314187</td>\n",
       "      <td>0.555556</td>\n",
       "      <td>0.314189</td>\n",
       "      <td>0.532582</td>\n",
       "      <td>0.647059</td>\n",
       "      <td>0.532514</td>\n",
       "      <td>0.499462</td>\n",
       "      <td>0.422535</td>\n",
       "      <td>0.499701</td>\n",
       "      <td>0.205</td>\n",
       "      <td>0.210526</td>\n",
       "      <td>0.205556</td>\n",
       "      <td>0.444444</td>\n",
       "      <td>1.0</td>\n",
       "      <td>0.0</td>\n",
       "      <td>1.0</td>\n",
       "      <td>0.0</td>\n",
       "    </tr>\n",
       "    <tr>\n",
       "      <th>679</th>\n",
       "      <td>0.305785</td>\n",
       "      <td>0.000000</td>\n",
       "      <td>0.631246</td>\n",
       "      <td>0.355556</td>\n",
       "      <td>0.631250</td>\n",
       "      <td>0.899093</td>\n",
       "      <td>0.652941</td>\n",
       "      <td>0.899385</td>\n",
       "      <td>0.497041</td>\n",
       "      <td>0.500000</td>\n",
       "      <td>0.497310</td>\n",
       "      <td>0.435</td>\n",
       "      <td>0.473684</td>\n",
       "      <td>0.435185</td>\n",
       "      <td>0.111111</td>\n",
       "      <td>0.0</td>\n",
       "      <td>1.0</td>\n",
       "      <td>1.0</td>\n",
       "      <td>0.0</td>\n",
       "    </tr>\n",
       "    <tr>\n",
       "      <th>56</th>\n",
       "      <td>0.578512</td>\n",
       "      <td>0.000000</td>\n",
       "      <td>0.356979</td>\n",
       "      <td>0.503704</td>\n",
       "      <td>0.356926</td>\n",
       "      <td>0.494913</td>\n",
       "      <td>0.364706</td>\n",
       "      <td>0.494985</td>\n",
       "      <td>0.316299</td>\n",
       "      <td>0.669014</td>\n",
       "      <td>0.316796</td>\n",
       "      <td>0.400</td>\n",
       "      <td>0.105263</td>\n",
       "      <td>0.400000</td>\n",
       "      <td>0.111111</td>\n",
       "      <td>1.0</td>\n",
       "      <td>0.0</td>\n",
       "      <td>1.0</td>\n",
       "      <td>0.0</td>\n",
       "    </tr>\n",
       "    <tr>\n",
       "      <th>1993</th>\n",
       "      <td>0.351240</td>\n",
       "      <td>0.000000</td>\n",
       "      <td>0.613728</td>\n",
       "      <td>0.488889</td>\n",
       "      <td>0.613682</td>\n",
       "      <td>0.732197</td>\n",
       "      <td>0.452941</td>\n",
       "      <td>0.732449</td>\n",
       "      <td>0.513179</td>\n",
       "      <td>0.542254</td>\n",
       "      <td>0.513449</td>\n",
       "      <td>0.225</td>\n",
       "      <td>0.157895</td>\n",
       "      <td>0.225926</td>\n",
       "      <td>0.000000</td>\n",
       "      <td>1.0</td>\n",
       "      <td>0.0</td>\n",
       "      <td>1.0</td>\n",
       "      <td>0.0</td>\n",
       "    </tr>\n",
       "    <tr>\n",
       "      <th>...</th>\n",
       "      <td>...</td>\n",
       "      <td>...</td>\n",
       "      <td>...</td>\n",
       "      <td>...</td>\n",
       "      <td>...</td>\n",
       "      <td>...</td>\n",
       "      <td>...</td>\n",
       "      <td>...</td>\n",
       "      <td>...</td>\n",
       "      <td>...</td>\n",
       "      <td>...</td>\n",
       "      <td>...</td>\n",
       "      <td>...</td>\n",
       "      <td>...</td>\n",
       "      <td>...</td>\n",
       "      <td>...</td>\n",
       "      <td>...</td>\n",
       "      <td>...</td>\n",
       "      <td>...</td>\n",
       "    </tr>\n",
       "    <tr>\n",
       "      <th>1095</th>\n",
       "      <td>0.433884</td>\n",
       "      <td>0.000000</td>\n",
       "      <td>0.780586</td>\n",
       "      <td>0.666667</td>\n",
       "      <td>0.780574</td>\n",
       "      <td>0.546054</td>\n",
       "      <td>0.482353</td>\n",
       "      <td>0.546102</td>\n",
       "      <td>0.370091</td>\n",
       "      <td>0.204225</td>\n",
       "      <td>0.370592</td>\n",
       "      <td>0.300</td>\n",
       "      <td>0.157895</td>\n",
       "      <td>0.300000</td>\n",
       "      <td>0.111111</td>\n",
       "      <td>1.0</td>\n",
       "      <td>0.0</td>\n",
       "      <td>1.0</td>\n",
       "      <td>0.0</td>\n",
       "    </tr>\n",
       "    <tr>\n",
       "      <th>1130</th>\n",
       "      <td>0.500000</td>\n",
       "      <td>0.000000</td>\n",
       "      <td>0.093337</td>\n",
       "      <td>0.237037</td>\n",
       "      <td>0.093412</td>\n",
       "      <td>0.497113</td>\n",
       "      <td>0.523529</td>\n",
       "      <td>0.497250</td>\n",
       "      <td>0.614309</td>\n",
       "      <td>0.176056</td>\n",
       "      <td>0.614465</td>\n",
       "      <td>0.635</td>\n",
       "      <td>0.105263</td>\n",
       "      <td>0.635185</td>\n",
       "      <td>0.111111</td>\n",
       "      <td>1.0</td>\n",
       "      <td>0.0</td>\n",
       "      <td>1.0</td>\n",
       "      <td>0.0</td>\n",
       "    </tr>\n",
       "    <tr>\n",
       "      <th>1294</th>\n",
       "      <td>0.268595</td>\n",
       "      <td>0.000000</td>\n",
       "      <td>0.244113</td>\n",
       "      <td>0.340741</td>\n",
       "      <td>0.244088</td>\n",
       "      <td>0.720374</td>\n",
       "      <td>0.652941</td>\n",
       "      <td>0.720479</td>\n",
       "      <td>0.434104</td>\n",
       "      <td>0.647887</td>\n",
       "      <td>0.434549</td>\n",
       "      <td>0.460</td>\n",
       "      <td>0.263158</td>\n",
       "      <td>0.459259</td>\n",
       "      <td>0.111111</td>\n",
       "      <td>1.0</td>\n",
       "      <td>0.0</td>\n",
       "      <td>1.0</td>\n",
       "      <td>0.0</td>\n",
       "    </tr>\n",
       "    <tr>\n",
       "      <th>860</th>\n",
       "      <td>0.694215</td>\n",
       "      <td>0.000000</td>\n",
       "      <td>0.507180</td>\n",
       "      <td>0.600000</td>\n",
       "      <td>0.507095</td>\n",
       "      <td>0.481716</td>\n",
       "      <td>0.764706</td>\n",
       "      <td>0.481721</td>\n",
       "      <td>0.552448</td>\n",
       "      <td>0.415493</td>\n",
       "      <td>0.552899</td>\n",
       "      <td>0.495</td>\n",
       "      <td>0.315789</td>\n",
       "      <td>0.494444</td>\n",
       "      <td>0.222222</td>\n",
       "      <td>1.0</td>\n",
       "      <td>0.0</td>\n",
       "      <td>1.0</td>\n",
       "      <td>0.0</td>\n",
       "    </tr>\n",
       "    <tr>\n",
       "      <th>3174</th>\n",
       "      <td>0.144628</td>\n",
       "      <td>0.843137</td>\n",
       "      <td>0.078403</td>\n",
       "      <td>0.688889</td>\n",
       "      <td>0.078378</td>\n",
       "      <td>0.354963</td>\n",
       "      <td>0.688235</td>\n",
       "      <td>0.354901</td>\n",
       "      <td>0.814147</td>\n",
       "      <td>0.507042</td>\n",
       "      <td>0.814704</td>\n",
       "      <td>0.430</td>\n",
       "      <td>0.315789</td>\n",
       "      <td>0.429630</td>\n",
       "      <td>0.222222</td>\n",
       "      <td>1.0</td>\n",
       "      <td>0.0</td>\n",
       "      <td>0.0</td>\n",
       "      <td>1.0</td>\n",
       "    </tr>\n",
       "  </tbody>\n",
       "</table>\n",
       "<p>2666 rows × 19 columns</p>\n",
       "</div>"
      ],
      "text/plain": [
       "      account length  number vmail messages  total day minutes  \\\n",
       "817         1.000000               0.000000           0.266801   \n",
       "1373        0.442149               0.000000           0.314187   \n",
       "679         0.305785               0.000000           0.631246   \n",
       "56          0.578512               0.000000           0.356979   \n",
       "1993        0.351240               0.000000           0.613728   \n",
       "...              ...                    ...                ...   \n",
       "1095        0.433884               0.000000           0.780586   \n",
       "1130        0.500000               0.000000           0.093337   \n",
       "1294        0.268595               0.000000           0.244113   \n",
       "860         0.694215               0.000000           0.507180   \n",
       "3174        0.144628               0.843137           0.078403   \n",
       "\n",
       "      total day calls  total day charge  total eve minutes  total eve calls  \\\n",
       "817          0.459259          0.266892           0.450096         0.370588   \n",
       "1373         0.555556          0.314189           0.532582         0.647059   \n",
       "679          0.355556          0.631250           0.899093         0.652941   \n",
       "56           0.503704          0.356926           0.494913         0.364706   \n",
       "1993         0.488889          0.613682           0.732197         0.452941   \n",
       "...               ...               ...                ...              ...   \n",
       "1095         0.666667          0.780574           0.546054         0.482353   \n",
       "1130         0.237037          0.093412           0.497113         0.523529   \n",
       "1294         0.340741          0.244088           0.720374         0.652941   \n",
       "860          0.600000          0.507095           0.481716         0.764706   \n",
       "3174         0.688889          0.078378           0.354963         0.688235   \n",
       "\n",
       "      total eve charge  total night minutes  total night calls  \\\n",
       "817           0.450016             0.648198           0.598592   \n",
       "1373          0.532514             0.499462           0.422535   \n",
       "679           0.899385             0.497041           0.500000   \n",
       "56            0.494985             0.316299           0.669014   \n",
       "1993          0.732449             0.513179           0.542254   \n",
       "...                ...                  ...                ...   \n",
       "1095          0.546102             0.370091           0.204225   \n",
       "1130          0.497250             0.614309           0.176056   \n",
       "1294          0.720479             0.434104           0.647887   \n",
       "860           0.481721             0.552448           0.415493   \n",
       "3174          0.354901             0.814147           0.507042   \n",
       "\n",
       "      total night charge  total intl minutes  total intl calls  \\\n",
       "817             0.648536               0.330          0.315789   \n",
       "1373            0.499701               0.205          0.210526   \n",
       "679             0.497310               0.435          0.473684   \n",
       "56              0.316796               0.400          0.105263   \n",
       "1993            0.513449               0.225          0.157895   \n",
       "...                  ...                 ...               ...   \n",
       "1095            0.370592               0.300          0.157895   \n",
       "1130            0.614465               0.635          0.105263   \n",
       "1294            0.434549               0.460          0.263158   \n",
       "860             0.552899               0.495          0.315789   \n",
       "3174            0.814704               0.430          0.315789   \n",
       "\n",
       "      total intl charge  customer service calls  international plan_no  \\\n",
       "817            0.329630                0.222222                    1.0   \n",
       "1373           0.205556                0.444444                    1.0   \n",
       "679            0.435185                0.111111                    0.0   \n",
       "56             0.400000                0.111111                    1.0   \n",
       "1993           0.225926                0.000000                    1.0   \n",
       "...                 ...                     ...                    ...   \n",
       "1095           0.300000                0.111111                    1.0   \n",
       "1130           0.635185                0.111111                    1.0   \n",
       "1294           0.459259                0.111111                    1.0   \n",
       "860            0.494444                0.222222                    1.0   \n",
       "3174           0.429630                0.222222                    1.0   \n",
       "\n",
       "      international plan_yes  voice mail plan_no  voice mail plan_yes  \n",
       "817                      0.0                 1.0                  0.0  \n",
       "1373                     0.0                 1.0                  0.0  \n",
       "679                      1.0                 1.0                  0.0  \n",
       "56                       0.0                 1.0                  0.0  \n",
       "1993                     0.0                 1.0                  0.0  \n",
       "...                      ...                 ...                  ...  \n",
       "1095                     0.0                 1.0                  0.0  \n",
       "1130                     0.0                 1.0                  0.0  \n",
       "1294                     0.0                 1.0                  0.0  \n",
       "860                      0.0                 1.0                  0.0  \n",
       "3174                     0.0                 0.0                  1.0  \n",
       "\n",
       "[2666 rows x 19 columns]"
      ]
     },
     "execution_count": 247,
     "metadata": {},
     "output_type": "execute_result"
    }
   ],
   "source": [
    "# Concatenate the one-hot encoded categorical columns with the numerical columns\n",
    "X_train_final = pd.concat([X_train_scaled, X_train_ohe], axis=1)\n",
    "\n",
    "# Display the final DataFrame\n",
    "X_train_final"
   ]
  },
  {
   "cell_type": "markdown",
   "metadata": {},
   "source": [
    "#### Concatenating the Normalized and OheHotEncoded Test Data\n"
   ]
  },
  {
   "cell_type": "code",
   "execution_count": 248,
   "metadata": {},
   "outputs": [
    {
     "data": {
      "text/html": [
       "<div>\n",
       "<style scoped>\n",
       "    .dataframe tbody tr th:only-of-type {\n",
       "        vertical-align: middle;\n",
       "    }\n",
       "\n",
       "    .dataframe tbody tr th {\n",
       "        vertical-align: top;\n",
       "    }\n",
       "\n",
       "    .dataframe thead th {\n",
       "        text-align: right;\n",
       "    }\n",
       "</style>\n",
       "<table border=\"1\" class=\"dataframe\">\n",
       "  <thead>\n",
       "    <tr style=\"text-align: right;\">\n",
       "      <th></th>\n",
       "      <th>account length</th>\n",
       "      <th>number vmail messages</th>\n",
       "      <th>total day minutes</th>\n",
       "      <th>total day calls</th>\n",
       "      <th>total day charge</th>\n",
       "      <th>total eve minutes</th>\n",
       "      <th>total eve calls</th>\n",
       "      <th>total eve charge</th>\n",
       "      <th>total night minutes</th>\n",
       "      <th>total night calls</th>\n",
       "      <th>total night charge</th>\n",
       "      <th>total intl minutes</th>\n",
       "      <th>total intl calls</th>\n",
       "      <th>total intl charge</th>\n",
       "      <th>customer service calls</th>\n",
       "      <th>international plan_no</th>\n",
       "      <th>international plan_yes</th>\n",
       "      <th>voice mail plan_no</th>\n",
       "      <th>voice mail plan_yes</th>\n",
       "    </tr>\n",
       "  </thead>\n",
       "  <tbody>\n",
       "    <tr>\n",
       "      <th>438</th>\n",
       "      <td>0.462810</td>\n",
       "      <td>0.000000</td>\n",
       "      <td>0.437679</td>\n",
       "      <td>0.466667</td>\n",
       "      <td>0.437669</td>\n",
       "      <td>0.908991</td>\n",
       "      <td>0.623529</td>\n",
       "      <td>0.909091</td>\n",
       "      <td>0.447015</td>\n",
       "      <td>0.633803</td>\n",
       "      <td>0.447101</td>\n",
       "      <td>0.675</td>\n",
       "      <td>0.157895</td>\n",
       "      <td>0.675926</td>\n",
       "      <td>0.111111</td>\n",
       "      <td>1.0</td>\n",
       "      <td>0.0</td>\n",
       "      <td>1.0</td>\n",
       "      <td>0.0</td>\n",
       "    </tr>\n",
       "    <tr>\n",
       "      <th>2674</th>\n",
       "      <td>0.272727</td>\n",
       "      <td>0.000000</td>\n",
       "      <td>0.305859</td>\n",
       "      <td>0.644444</td>\n",
       "      <td>0.305912</td>\n",
       "      <td>0.597745</td>\n",
       "      <td>0.729412</td>\n",
       "      <td>0.597865</td>\n",
       "      <td>0.444325</td>\n",
       "      <td>0.760563</td>\n",
       "      <td>0.444710</td>\n",
       "      <td>0.640</td>\n",
       "      <td>0.315789</td>\n",
       "      <td>0.640741</td>\n",
       "      <td>0.000000</td>\n",
       "      <td>1.0</td>\n",
       "      <td>0.0</td>\n",
       "      <td>1.0</td>\n",
       "      <td>0.0</td>\n",
       "    </tr>\n",
       "    <tr>\n",
       "      <th>1345</th>\n",
       "      <td>0.400826</td>\n",
       "      <td>0.000000</td>\n",
       "      <td>-0.007467</td>\n",
       "      <td>-0.222222</td>\n",
       "      <td>-0.007432</td>\n",
       "      <td>0.438823</td>\n",
       "      <td>0.764706</td>\n",
       "      <td>0.439016</td>\n",
       "      <td>0.387036</td>\n",
       "      <td>0.387324</td>\n",
       "      <td>0.387328</td>\n",
       "      <td>0.340</td>\n",
       "      <td>0.052632</td>\n",
       "      <td>0.340741</td>\n",
       "      <td>0.444444</td>\n",
       "      <td>1.0</td>\n",
       "      <td>0.0</td>\n",
       "      <td>1.0</td>\n",
       "      <td>0.0</td>\n",
       "    </tr>\n",
       "    <tr>\n",
       "      <th>1957</th>\n",
       "      <td>0.603306</td>\n",
       "      <td>0.000000</td>\n",
       "      <td>0.603676</td>\n",
       "      <td>0.362963</td>\n",
       "      <td>0.603716</td>\n",
       "      <td>0.561177</td>\n",
       "      <td>0.535294</td>\n",
       "      <td>0.561307</td>\n",
       "      <td>0.357719</td>\n",
       "      <td>0.563380</td>\n",
       "      <td>0.358039</td>\n",
       "      <td>0.510</td>\n",
       "      <td>0.105263</td>\n",
       "      <td>0.509259</td>\n",
       "      <td>0.111111</td>\n",
       "      <td>1.0</td>\n",
       "      <td>0.0</td>\n",
       "      <td>1.0</td>\n",
       "      <td>0.0</td>\n",
       "    </tr>\n",
       "    <tr>\n",
       "      <th>2148</th>\n",
       "      <td>0.392562</td>\n",
       "      <td>0.000000</td>\n",
       "      <td>0.406088</td>\n",
       "      <td>0.533333</td>\n",
       "      <td>0.406081</td>\n",
       "      <td>0.617817</td>\n",
       "      <td>0.429412</td>\n",
       "      <td>0.617923</td>\n",
       "      <td>0.550027</td>\n",
       "      <td>0.408451</td>\n",
       "      <td>0.550508</td>\n",
       "      <td>0.500</td>\n",
       "      <td>0.368421</td>\n",
       "      <td>0.500000</td>\n",
       "      <td>0.111111</td>\n",
       "      <td>1.0</td>\n",
       "      <td>0.0</td>\n",
       "      <td>1.0</td>\n",
       "      <td>0.0</td>\n",
       "    </tr>\n",
       "    <tr>\n",
       "      <th>...</th>\n",
       "      <td>...</td>\n",
       "      <td>...</td>\n",
       "      <td>...</td>\n",
       "      <td>...</td>\n",
       "      <td>...</td>\n",
       "      <td>...</td>\n",
       "      <td>...</td>\n",
       "      <td>...</td>\n",
       "      <td>...</td>\n",
       "      <td>...</td>\n",
       "      <td>...</td>\n",
       "      <td>...</td>\n",
       "      <td>...</td>\n",
       "      <td>...</td>\n",
       "      <td>...</td>\n",
       "      <td>...</td>\n",
       "      <td>...</td>\n",
       "      <td>...</td>\n",
       "      <td>...</td>\n",
       "    </tr>\n",
       "    <tr>\n",
       "      <th>2577</th>\n",
       "      <td>0.644628</td>\n",
       "      <td>0.000000</td>\n",
       "      <td>0.524124</td>\n",
       "      <td>0.459259</td>\n",
       "      <td>0.524155</td>\n",
       "      <td>0.585648</td>\n",
       "      <td>0.500000</td>\n",
       "      <td>0.585895</td>\n",
       "      <td>0.465035</td>\n",
       "      <td>0.366197</td>\n",
       "      <td>0.465033</td>\n",
       "      <td>0.425</td>\n",
       "      <td>0.263158</td>\n",
       "      <td>0.425926</td>\n",
       "      <td>0.222222</td>\n",
       "      <td>1.0</td>\n",
       "      <td>0.0</td>\n",
       "      <td>1.0</td>\n",
       "      <td>0.0</td>\n",
       "    </tr>\n",
       "    <tr>\n",
       "      <th>2763</th>\n",
       "      <td>0.475207</td>\n",
       "      <td>0.372549</td>\n",
       "      <td>0.439690</td>\n",
       "      <td>0.548148</td>\n",
       "      <td>0.439696</td>\n",
       "      <td>0.509761</td>\n",
       "      <td>0.694118</td>\n",
       "      <td>0.509867</td>\n",
       "      <td>0.455890</td>\n",
       "      <td>0.584507</td>\n",
       "      <td>0.456067</td>\n",
       "      <td>0.410</td>\n",
       "      <td>0.105263</td>\n",
       "      <td>0.409259</td>\n",
       "      <td>0.333333</td>\n",
       "      <td>1.0</td>\n",
       "      <td>0.0</td>\n",
       "      <td>0.0</td>\n",
       "      <td>1.0</td>\n",
       "    </tr>\n",
       "    <tr>\n",
       "      <th>3069</th>\n",
       "      <td>0.607438</td>\n",
       "      <td>0.509804</td>\n",
       "      <td>0.448306</td>\n",
       "      <td>0.451852</td>\n",
       "      <td>0.448311</td>\n",
       "      <td>0.441298</td>\n",
       "      <td>0.747059</td>\n",
       "      <td>0.441281</td>\n",
       "      <td>0.524744</td>\n",
       "      <td>0.387324</td>\n",
       "      <td>0.524806</td>\n",
       "      <td>0.495</td>\n",
       "      <td>0.157895</td>\n",
       "      <td>0.494444</td>\n",
       "      <td>0.111111</td>\n",
       "      <td>1.0</td>\n",
       "      <td>0.0</td>\n",
       "      <td>0.0</td>\n",
       "      <td>1.0</td>\n",
       "    </tr>\n",
       "    <tr>\n",
       "      <th>1468</th>\n",
       "      <td>0.305785</td>\n",
       "      <td>0.529412</td>\n",
       "      <td>0.329983</td>\n",
       "      <td>0.533333</td>\n",
       "      <td>0.330068</td>\n",
       "      <td>0.568600</td>\n",
       "      <td>0.747059</td>\n",
       "      <td>0.568748</td>\n",
       "      <td>0.460463</td>\n",
       "      <td>0.570423</td>\n",
       "      <td>0.460849</td>\n",
       "      <td>0.210</td>\n",
       "      <td>0.368421</td>\n",
       "      <td>0.209259</td>\n",
       "      <td>0.333333</td>\n",
       "      <td>1.0</td>\n",
       "      <td>0.0</td>\n",
       "      <td>0.0</td>\n",
       "      <td>1.0</td>\n",
       "    </tr>\n",
       "    <tr>\n",
       "      <th>582</th>\n",
       "      <td>0.425620</td>\n",
       "      <td>0.000000</td>\n",
       "      <td>0.464101</td>\n",
       "      <td>0.585185</td>\n",
       "      <td>0.464020</td>\n",
       "      <td>0.427275</td>\n",
       "      <td>0.529412</td>\n",
       "      <td>0.427370</td>\n",
       "      <td>0.391877</td>\n",
       "      <td>0.591549</td>\n",
       "      <td>0.392110</td>\n",
       "      <td>0.535</td>\n",
       "      <td>0.421053</td>\n",
       "      <td>0.535185</td>\n",
       "      <td>0.111111</td>\n",
       "      <td>1.0</td>\n",
       "      <td>0.0</td>\n",
       "      <td>1.0</td>\n",
       "      <td>0.0</td>\n",
       "    </tr>\n",
       "  </tbody>\n",
       "</table>\n",
       "<p>667 rows × 19 columns</p>\n",
       "</div>"
      ],
      "text/plain": [
       "      account length  number vmail messages  total day minutes  \\\n",
       "438         0.462810               0.000000           0.437679   \n",
       "2674        0.272727               0.000000           0.305859   \n",
       "1345        0.400826               0.000000          -0.007467   \n",
       "1957        0.603306               0.000000           0.603676   \n",
       "2148        0.392562               0.000000           0.406088   \n",
       "...              ...                    ...                ...   \n",
       "2577        0.644628               0.000000           0.524124   \n",
       "2763        0.475207               0.372549           0.439690   \n",
       "3069        0.607438               0.509804           0.448306   \n",
       "1468        0.305785               0.529412           0.329983   \n",
       "582         0.425620               0.000000           0.464101   \n",
       "\n",
       "      total day calls  total day charge  total eve minutes  total eve calls  \\\n",
       "438          0.466667          0.437669           0.908991         0.623529   \n",
       "2674         0.644444          0.305912           0.597745         0.729412   \n",
       "1345        -0.222222         -0.007432           0.438823         0.764706   \n",
       "1957         0.362963          0.603716           0.561177         0.535294   \n",
       "2148         0.533333          0.406081           0.617817         0.429412   \n",
       "...               ...               ...                ...              ...   \n",
       "2577         0.459259          0.524155           0.585648         0.500000   \n",
       "2763         0.548148          0.439696           0.509761         0.694118   \n",
       "3069         0.451852          0.448311           0.441298         0.747059   \n",
       "1468         0.533333          0.330068           0.568600         0.747059   \n",
       "582          0.585185          0.464020           0.427275         0.529412   \n",
       "\n",
       "      total eve charge  total night minutes  total night calls  \\\n",
       "438           0.909091             0.447015           0.633803   \n",
       "2674          0.597865             0.444325           0.760563   \n",
       "1345          0.439016             0.387036           0.387324   \n",
       "1957          0.561307             0.357719           0.563380   \n",
       "2148          0.617923             0.550027           0.408451   \n",
       "...                ...                  ...                ...   \n",
       "2577          0.585895             0.465035           0.366197   \n",
       "2763          0.509867             0.455890           0.584507   \n",
       "3069          0.441281             0.524744           0.387324   \n",
       "1468          0.568748             0.460463           0.570423   \n",
       "582           0.427370             0.391877           0.591549   \n",
       "\n",
       "      total night charge  total intl minutes  total intl calls  \\\n",
       "438             0.447101               0.675          0.157895   \n",
       "2674            0.444710               0.640          0.315789   \n",
       "1345            0.387328               0.340          0.052632   \n",
       "1957            0.358039               0.510          0.105263   \n",
       "2148            0.550508               0.500          0.368421   \n",
       "...                  ...                 ...               ...   \n",
       "2577            0.465033               0.425          0.263158   \n",
       "2763            0.456067               0.410          0.105263   \n",
       "3069            0.524806               0.495          0.157895   \n",
       "1468            0.460849               0.210          0.368421   \n",
       "582             0.392110               0.535          0.421053   \n",
       "\n",
       "      total intl charge  customer service calls  international plan_no  \\\n",
       "438            0.675926                0.111111                    1.0   \n",
       "2674           0.640741                0.000000                    1.0   \n",
       "1345           0.340741                0.444444                    1.0   \n",
       "1957           0.509259                0.111111                    1.0   \n",
       "2148           0.500000                0.111111                    1.0   \n",
       "...                 ...                     ...                    ...   \n",
       "2577           0.425926                0.222222                    1.0   \n",
       "2763           0.409259                0.333333                    1.0   \n",
       "3069           0.494444                0.111111                    1.0   \n",
       "1468           0.209259                0.333333                    1.0   \n",
       "582            0.535185                0.111111                    1.0   \n",
       "\n",
       "      international plan_yes  voice mail plan_no  voice mail plan_yes  \n",
       "438                      0.0                 1.0                  0.0  \n",
       "2674                     0.0                 1.0                  0.0  \n",
       "1345                     0.0                 1.0                  0.0  \n",
       "1957                     0.0                 1.0                  0.0  \n",
       "2148                     0.0                 1.0                  0.0  \n",
       "...                      ...                 ...                  ...  \n",
       "2577                     0.0                 1.0                  0.0  \n",
       "2763                     0.0                 0.0                  1.0  \n",
       "3069                     0.0                 0.0                  1.0  \n",
       "1468                     0.0                 0.0                  1.0  \n",
       "582                      0.0                 1.0                  0.0  \n",
       "\n",
       "[667 rows x 19 columns]"
      ]
     },
     "execution_count": 248,
     "metadata": {},
     "output_type": "execute_result"
    }
   ],
   "source": [
    "# Concatenate the one-hot encoded categorical columns with the numerical columns\n",
    "X_test_final = pd.concat([X_test_scaled, X_test_ohe], axis=1)\n",
    "\n",
    "# Display the final DataFrame\n",
    "X_test_final"
   ]
  },
  {
   "cell_type": "markdown",
   "metadata": {},
   "source": [
    "#### Feature Selection Using Domain Knowledge"
   ]
  },
  {
   "cell_type": "markdown",
   "metadata": {},
   "source": [
    "* Our model will have the following selected features:\n",
    "\n",
    "**Relevant Features**\n",
    "* account length: Longer account length might indicate higher customer satisfaction and loyalty which would reduce the churn.\n",
    "* international plan: Customers with an international plan may have different churn behaviors compared to those without it.\n",
    "* voice mail plan: This feature can indicate how much customers are engaged with additional services. It can impact retention if customers value these features.\n",
    "* number vmail messages: The number of voicemail messages can indicate the level of engagement with the service. Higher engagement may be associated with lower churn.\n",
    "* total day minutes, total day calls, total day charge: Daytime usage patterns can provide insights into customer behavior and satisfaction. High usage might correlate with higher satisfaction.\n",
    "* total eve minutes, total eve calls, total eve charge: Evening usage patterns can also be indicative of customer preferences.\n",
    "* total night minutes, total night calls, total night charge: Nighttime usage may indicate different customer preferences or patterns.\n",
    "* total intl minutes, total intl calls, total intl charge: International usage can reflect a customer's dependence on the telecom service for international communication, impacting churn.\n",
    "* customer service calls: The number of calls to customer service is often a strong indicator of customer dissatisfaction or issues. Higher numbers of service calls can be associated with higher churn risk.\n",
    "\n",
    "**Less Relevant Features**:\n",
    "* state: This might not directly affect churn unless there are significant regional differences in service quality or customer behavior. It might be useful if combined with other features.\n",
    "* area code: This might be less directly relevant unless there are specific patterns of churn related to geographic areas. However, it could potentially provide regional context if combined with other features.\n",
    "* phone number: This is a unique identifier and does not contribute to the prediction of churn."
   ]
  },
  {
   "cell_type": "markdown",
   "metadata": {},
   "source": [
    "### 5. Model Selection\n",
    "We will proceed with **Logistic Regression** since this is a classification problem with a binary target variable. However, we will account for the class imbalance observed earlier to ensure that the model performs well across both classes. The technique that we will use to account for the imbalance is SMOTE which will be discussed as we proceed."
   ]
  },
  {
   "cell_type": "code",
   "execution_count": 251,
   "metadata": {},
   "outputs": [
    {
     "data": {
      "image/png": "[encoded data removed]",
      "text/plain": [
       "<Figure size 2304x576 with 2 Axes>"
      ]
     },
     "metadata": {
      "needs_background": "light"
     },
     "output_type": "display_data"
    }
   ],
   "source": [
    "# Instantiate the model\n",
    "baseline_model = LogisticRegression(fit_intercept=False, C=1e12, random_state=42, solver='liblinear')\n",
    "# Fit the model on the scaled data\n",
    "baseline_model.fit(X_train_final, y_train)\n",
    "#To view the classifier Performance\n",
    "ConfusionMatrixDisplay.from_estimator(estimator=baseline_model, X=X_train_final, y=y_train);"
   ]
  },
  {
   "cell_type": "markdown",
   "metadata": {},
   "source": [
    "See interpretation from the confusion matrix generated before SMOTE\n",
    "\n",
    "* True Positive: 78 Customers who would churn and predicted as positive\n",
    "\n",
    "* False Negative: 304 Customers who would churn and predicted as negative\n",
    "\n",
    "* False Positive: 63 Customers who would not churn and predicted as positive\n",
    "\n",
    "* True Negative: 2221 Customers who would not churn and predicted as negative"
   ]
  },
  {
   "cell_type": "markdown",
   "metadata": {},
   "source": [
    "#### Model Training Before Fixing Class Imbalance"
   ]
  },
  {
   "cell_type": "code",
   "execution_count": 268,
   "metadata": {},
   "outputs": [
    {
     "name": "stdout",
     "output_type": "stream",
     "text": [
      "Baseline Training Accuracy: 86.23405851462866\n",
      "Baseline Training Recall: 20.418848167539267\n",
      "Baseline Training Precision: 55.319148936170215\n",
      "Baseline Training F1_score: 29.82791586998088\n",
      "\n",
      "\n",
      "Baseline Testing Accuracy: 85.6071964017991\n",
      "Baseline Testing Recall: 17.82178217821782\n",
      "Baseline Testing Precision: 58.06451612903226\n",
      "Baseline Testing F1_score: 27.27272727272727\n",
      "ROC AUC Score: 0.8332750236154357\n"
     ]
    }
   ],
   "source": [
    "#Predict the y_trained data from the X_trained final set\n",
    "y_hat_train = baseline_model.predict(X_train_final)\n",
    "#Calculate the classification metrics\n",
    "model_accuracy = accuracy_score(y_train, y_hat_train) *100\n",
    "model_recall = recall_score(y_train, y_hat_train) *100\n",
    "model_precision = precision_score(y_train, y_hat_train) *100\n",
    "model_f1 = f1_score(y_train, y_hat_train) *100\n",
    "#print the metrics\n",
    "print(f'Baseline Training Accuracy: {model_accuracy}')\n",
    "print(f'Baseline Training Recall: {model_recall}')\n",
    "print(f'Baseline Training Precision: {model_precision}')\n",
    "print(f'Baseline Training F1_score: {model_f1}')\n",
    "\n",
    "#Predict the y_trained data from the X_trained final set\n",
    "y_hat_test = baseline_model.predict(X_test_final)\n",
    "#Calculate the classification metrics\n",
    "model_accuracy = accuracy_score(y_test, y_hat_test) *100\n",
    "model_recall = recall_score(y_test, y_hat_test) *100\n",
    "model_precision = precision_score(y_test, y_hat_test) *100\n",
    "model_f1 = f1_score(y_test, y_hat_test) *100\n",
    "\n",
    "print('\\n')\n",
    "#print the metrics\n",
    "print(f'Baseline Testing Accuracy: {model_accuracy}')\n",
    "print(f'Baseline Testing Recall: {model_recall}')\n",
    "print(f'Baseline Testing Precision: {model_precision}')\n",
    "print(f'Baseline Testing F1_score: {model_f1}')\n",
    "\n",
    "# Let's calculate the probability scores of each of the datapoints:\n",
    "y_score = baseline_model.fit(X_train_final, y_train).decision_function(X_test_final)\n",
    "fpr, tpr, thresholds = roc_curve(y_test, y_score)\n",
    "# Calculate the AUC score\n",
    "roc_auc_ = roc_auc_score(y_test, y_score)\n",
    "#Print the ROC AUC Score\n",
    "print(f\"ROC AUC Score: {roc_auc_}\")"
   ]
  },
  {
   "cell_type": "markdown",
   "metadata": {},
   "source": [
    "* Baseline Accuracy: 86.23% This relatively high accuracy is misleading as we noted class imbalance in the dataset. The no churn is the majority class leading to high accuracy but poor performance on the minority class which is what we are interested in.\n",
    "\n",
    "* Baseline Recall: 20.41% A low recall indicates that the model is missing a large portion of the actual positive cases. This is often the result of class imbalance.\n",
    "\n",
    "* Baseline Precision: 55.32% Precision is relatively higher than recall, suggesting that when the model does predict a positive class, it is more often correct. However, the model still has a significant number of false positives, which lowers precision.\n",
    "\n",
    "* Baseline F1 Score: 29.83 The low F1 score reflects the trade-off between the low recall and moderate precision. It shows that the model struggles to make accurate predictions for the minority class\n",
    "\n",
    "* Baseline Testing Accuracy: 85.61% The testing accuracy is slightly lower than the training accuracy, which suggests that the model is somewhat overfitting to the training data. However, like the training accuracy, this metric might be misleading due to class imbalance.\n",
    "\n",
    "* Baseline Testing Recall: 17.82% The recall on the testing data is even lower than on the training data (15.84% vs. 19.90%), indicating that the model is failing to generalize well in identifying churn cases. This suggests the model is likely overfitting to the majority class in the training data and not learning the patterns needed to predict churn effectively.\n",
    "\n",
    "* Baseline Testing Precision: 58.06% The testing precision is close to the training precision, which means that among the cases the model predicts as churn, the proportion of correct predictions remains similar. However, since recall is very low, this isn't particularly comforting\n",
    "\n",
    "* Baseline Testing F1 Score: 27.27% The F1 score has dropped further on the test data, which suggests that the model's overall performance on unseen data is quite poor. This is likely due to the imbalance in the dataset and the model's inability to generalize\n",
    "\n",
    "* ROC AUC Score: 0.8332750236154357 This is the key metric for evaluating the performance of a classification model especially in cases of class imbalance. \n"
   ]
  },
  {
   "cell_type": "markdown",
   "metadata": {},
   "source": [
    "#### Handling Class Imbalance\n",
    "The majority of the data (about 85.51%) falls into the 'False' or 0 category, while the minority of the data (about 14.49%) falls into the 'True' or 1 category. This indicates that the dataset is imbalanced, with a higher proportion of non-churned customers. To address this issue, we will use SMOTE (Synthetic Minority Over-sampling Technique). SMOTE increases the number of instances in the minority class by generating synthetic examples rather than simply duplicating existing ones, which helps balance the dataset and improve model performance."
   ]
  },
  {
   "cell_type": "code",
   "execution_count": 259,
   "metadata": {},
   "outputs": [
    {
     "name": "stdout",
     "output_type": "stream",
     "text": [
      "Synthetic Sample Class Distribution:\n",
      "True     2284\n",
      "False    2284\n",
      "Name: churn, dtype: int64\n"
     ]
    }
   ],
   "source": [
    "#Instantialize the technique\n",
    "smote = SMOTE()\n",
    "X_train_resampled, y_train_resampled  = smote.fit_resample(X_train_final, y_train)\n",
    "#print to view the distribution\n",
    "print('Synthetic Sample Class Distribution:')\n",
    "print(pd.Series(y_train_resampled).value_counts())"
   ]
  },
  {
   "cell_type": "markdown",
   "metadata": {},
   "source": [
    "* Now the churn and no churn class is balanced at 2284 each. We shall proceed to fit this balanced data on our model and view the classification metrics then compare with the baseline model."
   ]
  },
  {
   "cell_type": "markdown",
   "metadata": {},
   "source": [
    "#### Logistic Regression Iterative Model 2 \n",
    "Here we shall use the balanced data with the same parameters as the baseline model"
   ]
  },
  {
   "cell_type": "code",
   "execution_count": 260,
   "metadata": {},
   "outputs": [
    {
     "name": "stdout",
     "output_type": "stream",
     "text": [
      "Model_2 Training Accuracy: 76.57618213660245\n",
      "Model_2 Training Recall: 75.65674255691769\n",
      "Model_2 Training Precision: 77.07404103479037\n",
      "Model_2 Training F1_score: 76.35881573133008\n",
      "\n",
      "\n",
      "Model_2 Test Accuracy: 78.11094452773614\n",
      "Model_2 Test Recall: 76.23762376237624\n",
      "Model_2 Test Precision: 38.69346733668342\n",
      "Model_2 Test F1_score: 51.33333333333333\n",
      "\n",
      "\n",
      "ROC AUC Score: 0.8339747402302068\n"
     ]
    }
   ],
   "source": [
    "# Instantiate the model\n",
    "iterative_model = LogisticRegression(fit_intercept=False, C=1e12, random_state=42, solver='liblinear')\n",
    "# Fit the model on the resampled training data\n",
    "iterative_model.fit(X_train_resampled, y_train_resampled)\n",
    "\n",
    "# Predict on the resampled training data\n",
    "y_hat_train_model2 = iterative_model.predict(X_train_resampled)\n",
    "\n",
    "# Calculate training metrics\n",
    "model_accuracy_train = accuracy_score(y_train_resampled, y_hat_train_model2) * 100\n",
    "model_recall_train = recall_score(y_train_resampled, y_hat_train_model2) * 100\n",
    "model_precision_train = precision_score(y_train_resampled, y_hat_train_model2) * 100\n",
    "model_f1_train = f1_score(y_train_resampled, y_hat_train_model2) * 100\n",
    "\n",
    "# Print training metrics\n",
    "print(f'Model_2 Training Accuracy: {model_accuracy_train}')\n",
    "print(f'Model_2 Training Recall: {model_recall_train}')\n",
    "print(f'Model_2 Training Precision: {model_precision_train}')\n",
    "print(f'Model_2 Training F1_score: {model_f1_train}')\n",
    "\n",
    "# Predict on the original test data\n",
    "y_hat_test_model2 = iterative_model.predict(X_test_final)\n",
    "\n",
    "# Calculate test metrics\n",
    "model_accuracy_test = accuracy_score(y_test, y_hat_test_model2) * 100\n",
    "model_recall_test = recall_score(y_test, y_hat_test_model2) * 100\n",
    "model_precision_test = precision_score(y_test, y_hat_test_model2) * 100\n",
    "model_f1_test = f1_score(y_test, y_hat_test_model2) * 100\n",
    "print('\\n')\n",
    "\n",
    "# Print test metrics\n",
    "print(f'Model_2 Test Accuracy: {model_accuracy_test}')\n",
    "print(f'Model_2 Test Recall: {model_recall_test}')\n",
    "print(f'Model_2 Test Precision: {model_precision_test}')\n",
    "print(f'Model_2 Test F1_score: {model_f1_test}')\n",
    "\n",
    "# Let's calculate the probability scores of each of the datapoints:\n",
    "y_score = iterative_model.fit(X_train_resampled, y_train_resampled).decision_function(X_test_final)\n",
    "fpr, tpr, thresholds = roc_curve(y_test, y_score)\n",
    "# Calculate the AUC score\n",
    "roc_auc = roc_auc_score(y_test, y_score)\n",
    "print('\\n')\n",
    "#Print the ROC AUC Score\n",
    "print(f\"ROC AUC Score: {roc_auc}\")"
   ]
  },
  {
   "cell_type": "markdown",
   "metadata": {},
   "source": [
    "Training Data Metrics:\n",
    "\n",
    "* Accuracy: 76.57% - This indicates that about 76.57% of the training predictions are correct.\n",
    "\n",
    "* Recall: 75.65% - The model is able to correctly identify 75.65% of the actual positive cases that is  churn cases.\n",
    "\n",
    "* Precision: 77.07% - Of the cases the model predicted as positive, 77.07% were correct.\n",
    "\n",
    "* F1 Score: 76.35% - This score balances precision and recall, providing a single metric to evaluate the model's performance on the training data.\n",
    "\n",
    "Testing Data Metrics\n",
    "* Accuracy: 78.11% - Higher than the training accuracy, indicating better performance to unseen data.\n",
    "\n",
    "* Recall: 76.23% - The model identifies 76.23% of the true churn cases on the test data.\n",
    "\n",
    "* Precision: 38.69% - The precision is much lower on the test data, meaning many of the positive predictions are incorrect.\n",
    "\n",
    "* F1 Score: 51.33% - This is lower than the training F1 score, indicating a drop in performance when generalizing to unseen data.\n",
    "\n",
    "AUC Difference: \n",
    "\n",
    "* The baseline model's AUC score is 0.8333, while the iterative model's AUC score is 0.8340. The small increase in the AUC score suggests that the iterative model, which was trained on the SMOTE-balanced data, is slightly better at distinguishing between the positive and negative classes"
   ]
  },
  {
   "cell_type": "markdown",
   "metadata": {},
   "source": [
    "#### Visualizing ROC AUC"
   ]
  },
  {
   "cell_type": "code",
   "execution_count": 271,
   "metadata": {},
   "outputs": [
    {
     "data": {
      "image/png": "[encoded data removed]",
      "text/plain": [
       "<Figure size 720x576 with 1 Axes>"
      ]
     },
     "metadata": {},
     "output_type": "display_data"
    }
   ],
   "source": [
    "sns.set_style(\"darkgrid\", {'axes.facecolor':'0.9'})\n",
    "plt.figure(figsize=(10,8))\n",
    "lw =2\n",
    "plt.plot(fpr, tpr, color='darkorange', lw=lw, label='ROC Curve')\n",
    "plt.plot([0,1], [0,1], color='navy', lw=lw, linestyle='--')\n",
    "plt.xlim([0.0, 1.0])\n",
    "plt.ylim([0.0, 1.05])\n",
    "plt.xticks([i/20.0 for i in range (21)])\n",
    "plt.yticks([i/20.0 for i in range (21)])\n",
    "plt.xlabel('False Positive Rate (FPR)')\n",
    "plt.ylabel('True Positive Rate (TPR)')\n",
    "plt.title('ROC AUC Visualization')\n",
    "plt.legend(loc=\"lower right\")\n",
    "plt.show()"
   ]
  },
  {
   "cell_type": "markdown",
   "metadata": {},
   "source": [
    "#### Cross Validation Test\n",
    "We shall evaluate the expected accuracy of our baseline and iterative model, prior to using the test data with `cv` of 5"
   ]
  },
  {
   "cell_type": "code",
   "execution_count": 267,
   "metadata": {},
   "outputs": [
    {
     "name": "stdout",
     "output_type": "stream",
     "text": [
      "Baseline cv score: 0.861215225808265\n",
      "\n",
      "\n",
      "Iterative cv score: 0.861215225808265\n"
     ]
    }
   ],
   "source": [
    "#Cross Validation On Baseline Model\n",
    "cv_scores_baseline = cross_val_score(baseline_model, X_train_final, y_train, cv=5)\n",
    "print(f\"Baseline cv score: {cv_scores_baseline.mean()}\")\n",
    "#Cross Validation On Iterative Model\n",
    "print('\\n')\n",
    "cv_scores_iterative = cross_val_score(iterative_model, X_train_final, y_train, cv=5)\n",
    "print(f\"Iterative cv score: {cv_scores_iterative.mean()}\")"
   ]
  },
  {
   "cell_type": "markdown",
   "metadata": {},
   "source": [
    "* The Cross-Validation Mean Score of 86.12% is similar for both the baseline and iterative model.\n",
    "\n",
    "* The iterative model appears to be performing better overall, especially in terms of generalization, as indicated by the cross-validation mean score of 86.12%. This score shows that our iterative model generalizes well across different subsets of data."
   ]
  },
  {
   "cell_type": "markdown",
   "metadata": {},
   "source": [
    "#### Decision Trees\n",
    "Other than Logistic Regression, we shall try another model using Decision Trees. Decision trees are a powerful and flexible tool for classification problems, offering ease of interpretation, handling non-linear relationships, and providing automatic feature selection."
   ]
  },
  {
   "cell_type": "code",
   "execution_count": 234,
   "metadata": {},
   "outputs": [
    {
     "name": "stdout",
     "output_type": "stream",
     "text": [
      "Training Accuracy: 100.0\n",
      "Training Recall: 100.0\n",
      "Training Precision: 100.0\n",
      "Training F1_score: 100.0\n",
      "/n\n",
      "Testing Accuracy: 90.55472263868066\n",
      "Testing Recall: 69.3069306930693\n",
      "Testing Precision: 68.62745098039215\n",
      "Testing F1_score: 68.96551724137932\n"
     ]
    }
   ],
   "source": [
    "# #Instantiate the model\n",
    "# clf = DecisionTreeClassifier(criterion='entropy', random_state=42)\n",
    "# #Fit the model\n",
    "# clf.fit(X_train_final, y_train)\n",
    "# #To predict\n",
    "# y_hat_train = clf.predict(X_train_final)\n",
    "\n",
    "#Calculate the classification metrics\n",
    "# model_accuracy = accuracy_score(y_train, y_hat_train) *100\n",
    "# model_recall = recall_score(y_train, y_hat_train) *100\n",
    "# model_precision = precision_score(y_train, y_hat_train) *100\n",
    "# model_f1 = f1_score(y_train, y_hat_train) *100\n",
    "# #print the metrics\n",
    "# print(f'Training Accuracy: {model_accuracy}')\n",
    "# print(f'Training Recall: {model_recall}')\n",
    "# print(f'Training Precision: {model_precision}')\n",
    "# print(f'Training F1_score: {model_f1}')\n",
    "\n",
    "# #Predict the y_trained data from the X_trained final set\n",
    "# y_hat_test = clf.predict(X_test_final)\n",
    "# #Calculate the classification metrics\n",
    "# model_accuracy = accuracy_score(y_test, y_hat_test) *100\n",
    "# model_recall = recall_score(y_test, y_hat_test) *100\n",
    "# model_precision = precision_score(y_test, y_hat_test) *100\n",
    "# model_f1 = f1_score(y_test, y_hat_test) *100\n",
    "# print('/n')\n",
    "# #print the metrics\n",
    "# print(f'Testing Accuracy: {model_accuracy}')\n",
    "# print(f'Testing Recall: {model_recall}')\n",
    "# print(f'Testing Precision: {model_precision}')\n",
    "# print(f'Testing F1_score: {model_f1}')\n"
   ]
  },
  {
   "cell_type": "markdown",
   "metadata": {},
   "source": []
  }
 ],
 "metadata": {
  "kernelspec": {
   "display_name": "learn-env",
   "language": "python",
   "name": "python3"
  },
  "language_info": {
   "codemirror_mode": {
    "name": "ipython",
    "version": 3
   },
   "file_extension": ".py",
   "mimetype": "text/x-python",
   "name": "python",
   "nbconvert_exporter": "python",
   "pygments_lexer": "ipython3",
   "version": "3.8.5"
  }
 },
 "nbformat": 4,
 "nbformat_minor": 2
}
